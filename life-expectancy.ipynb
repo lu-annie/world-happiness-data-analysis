{
 "cells": [
  {
   "cell_type": "markdown",
   "id": "614fdcf1-45a1-46b2-a452-cd21a4b29ed8",
   "metadata": {},
   "source": [
    "# Part 2: Life Expectancy vs World Happiness Level"
   ]
  },
  {
   "cell_type": "markdown",
   "id": "bd2701f5-20ab-4123-ad3e-446f7cbb1990",
   "metadata": {},
   "source": [
    "## Load in Data\n",
    "For this section of the project, we will be comparing the world life expectancy rates for all 7 continents to the world happiness levels to see if they correlate. Let's begin by loading the csv files."
   ]
  },
  {
   "cell_type": "code",
   "execution_count": 1,
   "id": "a1ffc5aa-9543-4e21-be12-514796b8563e",
   "metadata": {},
   "outputs": [
    {
     "name": "stdout",
     "output_type": "stream",
     "text": [
      "Requirement already satisfied: pandas in /opt/conda/lib/python3.10/site-packages (2.1.4)\n",
      "Requirement already satisfied: numpy<2,>=1.22.4 in /opt/conda/lib/python3.10/site-packages (from pandas) (1.26.3)\n",
      "Requirement already satisfied: python-dateutil>=2.8.2 in /opt/conda/lib/python3.10/site-packages (from pandas) (2.8.2)\n",
      "Requirement already satisfied: pytz>=2020.1 in /opt/conda/lib/python3.10/site-packages (from pandas) (2023.3.post1)\n",
      "Requirement already satisfied: tzdata>=2022.1 in /opt/conda/lib/python3.10/site-packages (from pandas) (2023.4)\n",
      "Requirement already satisfied: six>=1.5 in /opt/conda/lib/python3.10/site-packages (from python-dateutil>=2.8.2->pandas) (1.16.0)\n",
      "Collecting plotly\n",
      "  Using cached plotly-5.19.0-py3-none-any.whl.metadata (7.0 kB)\n",
      "Collecting tenacity>=6.2.0 (from plotly)\n",
      "  Using cached tenacity-8.2.3-py3-none-any.whl.metadata (1.0 kB)\n",
      "Requirement already satisfied: packaging in /opt/conda/lib/python3.10/site-packages (from plotly) (23.2)\n",
      "Using cached plotly-5.19.0-py3-none-any.whl (15.7 MB)\n",
      "Using cached tenacity-8.2.3-py3-none-any.whl (24 kB)\n",
      "Installing collected packages: tenacity, plotly\n",
      "Successfully installed plotly-5.19.0 tenacity-8.2.3\n",
      "Collecting pycountry-convert\n",
      "  Using cached pycountry_convert-0.7.2-py3-none-any.whl.metadata (7.2 kB)\n",
      "Collecting pprintpp>=0.3.0 (from pycountry-convert)\n",
      "  Using cached pprintpp-0.4.0-py2.py3-none-any.whl.metadata (7.9 kB)\n",
      "Collecting pycountry>=16.11.27.1 (from pycountry-convert)\n",
      "  Using cached pycountry-23.12.11-py3-none-any.whl.metadata (12 kB)\n",
      "Collecting pytest>=3.4.0 (from pycountry-convert)\n",
      "  Using cached pytest-8.1.1-py3-none-any.whl.metadata (7.6 kB)\n",
      "Collecting pytest-mock>=1.6.3 (from pycountry-convert)\n",
      "  Using cached pytest_mock-3.12.0-py3-none-any.whl.metadata (3.8 kB)\n",
      "Collecting pytest-cov>=2.5.1 (from pycountry-convert)\n",
      "  Using cached pytest_cov-4.1.0-py3-none-any.whl.metadata (26 kB)\n",
      "Collecting repoze.lru>=0.7 (from pycountry-convert)\n",
      "  Using cached repoze.lru-0.7-py3-none-any.whl.metadata (1.1 kB)\n",
      "Requirement already satisfied: wheel>=0.30.0 in /opt/conda/lib/python3.10/site-packages (from pycountry-convert) (0.42.0)\n",
      "Collecting iniconfig (from pytest>=3.4.0->pycountry-convert)\n",
      "  Using cached iniconfig-2.0.0-py3-none-any.whl.metadata (2.6 kB)\n",
      "Requirement already satisfied: packaging in /opt/conda/lib/python3.10/site-packages (from pytest>=3.4.0->pycountry-convert) (23.2)\n",
      "Collecting pluggy<2.0,>=1.4 (from pytest>=3.4.0->pycountry-convert)\n",
      "  Using cached pluggy-1.4.0-py3-none-any.whl.metadata (4.3 kB)\n",
      "Requirement already satisfied: exceptiongroup>=1.0.0rc8 in /opt/conda/lib/python3.10/site-packages (from pytest>=3.4.0->pycountry-convert) (1.2.0)\n",
      "Requirement already satisfied: tomli>=1 in /opt/conda/lib/python3.10/site-packages (from pytest>=3.4.0->pycountry-convert) (2.0.1)\n",
      "Collecting coverage>=5.2.1 (from coverage[toml]>=5.2.1->pytest-cov>=2.5.1->pycountry-convert)\n",
      "  Using cached coverage-7.4.3-cp310-cp310-manylinux_2_5_x86_64.manylinux1_x86_64.manylinux_2_17_x86_64.manylinux2014_x86_64.whl.metadata (8.2 kB)\n",
      "Using cached pycountry_convert-0.7.2-py3-none-any.whl (13 kB)\n",
      "Using cached pprintpp-0.4.0-py2.py3-none-any.whl (16 kB)\n",
      "Using cached pycountry-23.12.11-py3-none-any.whl (6.2 MB)\n",
      "Using cached pytest-8.1.1-py3-none-any.whl (337 kB)\n",
      "Using cached pytest_cov-4.1.0-py3-none-any.whl (21 kB)\n",
      "Using cached pytest_mock-3.12.0-py3-none-any.whl (9.8 kB)\n",
      "Using cached repoze.lru-0.7-py3-none-any.whl (10 kB)\n",
      "Using cached coverage-7.4.3-cp310-cp310-manylinux_2_5_x86_64.manylinux1_x86_64.manylinux_2_17_x86_64.manylinux2014_x86_64.whl (234 kB)\n",
      "Using cached pluggy-1.4.0-py3-none-any.whl (20 kB)\n",
      "Using cached iniconfig-2.0.0-py3-none-any.whl (5.9 kB)\n",
      "Installing collected packages: repoze.lru, pprintpp, pycountry, pluggy, iniconfig, coverage, pytest, pytest-mock, pytest-cov, pycountry-convert\n",
      "  Attempting uninstall: pluggy\n",
      "    Found existing installation: pluggy 1.3.0\n",
      "    Uninstalling pluggy-1.3.0:\n",
      "      Successfully uninstalled pluggy-1.3.0\n",
      "Successfully installed coverage-7.4.3 iniconfig-2.0.0 pluggy-1.4.0 pprintpp-0.4.0 pycountry-23.12.11 pycountry-convert-0.7.2 pytest-8.1.1 pytest-cov-4.1.0 pytest-mock-3.12.0 repoze.lru-0.7\n"
     ]
    }
   ],
   "source": [
    "!pip install pandas\n",
    "!pip install plotly\n",
    "!pip install -q folium mapclassify\n",
    "!pip install pycountry-convert\n",
    "%matplotlib inline\n",
    "\n",
    "import geopandas as gpd\n",
    "import pandas as pd\n",
    "import plotly.express as px\n",
    "import plotly.graph_objects as go\n",
    "import pycountry_convert as pc\n",
    "\n",
    "# read csvs for world happiness and life expectancy\n",
    "world_happiness = pd.read_csv(\"world_happiness.csv\")\n",
    "life_expectancy = pd.read_csv(\"life_expectancy.csv\")"
   ]
  },
  {
   "cell_type": "markdown",
   "id": "fec26c69-e7b4-47c1-b91e-0543489ae273",
   "metadata": {},
   "source": [
    "Great! Now let's display the world happiness and life expectancy datasets to see what we need to fix."
   ]
  },
  {
   "cell_type": "code",
   "execution_count": 2,
   "id": "1939deb5-06fd-4cae-b16e-10942bcacd65",
   "metadata": {},
   "outputs": [
    {
     "data": {
      "text/html": [
       "<div>\n",
       "<style scoped>\n",
       "    .dataframe tbody tr th:only-of-type {\n",
       "        vertical-align: middle;\n",
       "    }\n",
       "\n",
       "    .dataframe tbody tr th {\n",
       "        vertical-align: top;\n",
       "    }\n",
       "\n",
       "    .dataframe thead th {\n",
       "        text-align: right;\n",
       "    }\n",
       "</style>\n",
       "<table border=\"1\" class=\"dataframe\">\n",
       "  <thead>\n",
       "    <tr style=\"text-align: right;\">\n",
       "      <th></th>\n",
       "      <th>Country</th>\n",
       "      <th>Year</th>\n",
       "      <th>Index</th>\n",
       "    </tr>\n",
       "  </thead>\n",
       "  <tbody>\n",
       "    <tr>\n",
       "      <th>0</th>\n",
       "      <td>Afghanistan</td>\n",
       "      <td>2013</td>\n",
       "      <td>4.040</td>\n",
       "    </tr>\n",
       "    <tr>\n",
       "      <th>1</th>\n",
       "      <td>Afghanistan</td>\n",
       "      <td>2015</td>\n",
       "      <td>3.575</td>\n",
       "    </tr>\n",
       "    <tr>\n",
       "      <th>2</th>\n",
       "      <td>Afghanistan</td>\n",
       "      <td>2016</td>\n",
       "      <td>3.360</td>\n",
       "    </tr>\n",
       "    <tr>\n",
       "      <th>3</th>\n",
       "      <td>Afghanistan</td>\n",
       "      <td>2017</td>\n",
       "      <td>3.794</td>\n",
       "    </tr>\n",
       "    <tr>\n",
       "      <th>4</th>\n",
       "      <td>Afghanistan</td>\n",
       "      <td>2018</td>\n",
       "      <td>3.632</td>\n",
       "    </tr>\n",
       "  </tbody>\n",
       "</table>\n",
       "</div>"
      ],
      "text/plain": [
       "       Country  Year  Index\n",
       "0  Afghanistan  2013  4.040\n",
       "1  Afghanistan  2015  3.575\n",
       "2  Afghanistan  2016  3.360\n",
       "3  Afghanistan  2017  3.794\n",
       "4  Afghanistan  2018  3.632"
      ]
     },
     "execution_count": 2,
     "metadata": {},
     "output_type": "execute_result"
    }
   ],
   "source": [
    "# drop the Rank column as it is not needed for analysis\n",
    "world_happiness = world_happiness.drop(columns='Rank')\n",
    "\n",
    "# show dataframe\n",
    "world_happiness.head()"
   ]
  },
  {
   "cell_type": "code",
   "execution_count": 3,
   "id": "57bcd873-7025-4d01-a765-dbf77ba7f3dd",
   "metadata": {},
   "outputs": [
    {
     "data": {
      "text/html": [
       "<div>\n",
       "<style scoped>\n",
       "    .dataframe tbody tr th:only-of-type {\n",
       "        vertical-align: middle;\n",
       "    }\n",
       "\n",
       "    .dataframe tbody tr th {\n",
       "        vertical-align: top;\n",
       "    }\n",
       "\n",
       "    .dataframe thead th {\n",
       "        text-align: right;\n",
       "    }\n",
       "</style>\n",
       "<table border=\"1\" class=\"dataframe\">\n",
       "  <thead>\n",
       "    <tr style=\"text-align: right;\">\n",
       "      <th></th>\n",
       "      <th>Entity</th>\n",
       "      <th>Code</th>\n",
       "      <th>Year</th>\n",
       "      <th>Period life expectancy at birth - Sex: all - Age: 0</th>\n",
       "    </tr>\n",
       "  </thead>\n",
       "  <tbody>\n",
       "    <tr>\n",
       "      <th>0</th>\n",
       "      <td>Afghanistan</td>\n",
       "      <td>AFG</td>\n",
       "      <td>1950</td>\n",
       "      <td>27.7275</td>\n",
       "    </tr>\n",
       "    <tr>\n",
       "      <th>1</th>\n",
       "      <td>Afghanistan</td>\n",
       "      <td>AFG</td>\n",
       "      <td>1951</td>\n",
       "      <td>27.9634</td>\n",
       "    </tr>\n",
       "    <tr>\n",
       "      <th>2</th>\n",
       "      <td>Afghanistan</td>\n",
       "      <td>AFG</td>\n",
       "      <td>1952</td>\n",
       "      <td>28.4456</td>\n",
       "    </tr>\n",
       "    <tr>\n",
       "      <th>3</th>\n",
       "      <td>Afghanistan</td>\n",
       "      <td>AFG</td>\n",
       "      <td>1953</td>\n",
       "      <td>28.9304</td>\n",
       "    </tr>\n",
       "    <tr>\n",
       "      <th>4</th>\n",
       "      <td>Afghanistan</td>\n",
       "      <td>AFG</td>\n",
       "      <td>1954</td>\n",
       "      <td>29.2258</td>\n",
       "    </tr>\n",
       "  </tbody>\n",
       "</table>\n",
       "</div>"
      ],
      "text/plain": [
       "        Entity Code  Year  Period life expectancy at birth - Sex: all - Age: 0\n",
       "0  Afghanistan  AFG  1950                                            27.7275  \n",
       "1  Afghanistan  AFG  1951                                            27.9634  \n",
       "2  Afghanistan  AFG  1952                                            28.4456  \n",
       "3  Afghanistan  AFG  1953                                            28.9304  \n",
       "4  Afghanistan  AFG  1954                                            29.2258  "
      ]
     },
     "execution_count": 3,
     "metadata": {},
     "output_type": "execute_result"
    }
   ],
   "source": [
    "life_expectancy.head()"
   ]
  },
  {
   "cell_type": "markdown",
   "id": "558b4126-6528-46ba-a26b-e314f05205f0",
   "metadata": {},
   "source": [
    "It appears we need to drop the \"Code\" and \"Rank\" columns. Then, we will filter our data to only include data from years 2013 and beyond (the dataset stops at 2021)."
   ]
  },
  {
   "cell_type": "code",
   "execution_count": 4,
   "id": "5a7b70d6-9e3b-4acd-8e18-f916e484a73d",
   "metadata": {},
   "outputs": [
    {
     "data": {
      "text/html": [
       "<div>\n",
       "<style scoped>\n",
       "    .dataframe tbody tr th:only-of-type {\n",
       "        vertical-align: middle;\n",
       "    }\n",
       "\n",
       "    .dataframe tbody tr th {\n",
       "        vertical-align: top;\n",
       "    }\n",
       "\n",
       "    .dataframe thead th {\n",
       "        text-align: right;\n",
       "    }\n",
       "</style>\n",
       "<table border=\"1\" class=\"dataframe\">\n",
       "  <thead>\n",
       "    <tr style=\"text-align: right;\">\n",
       "      <th></th>\n",
       "      <th>Entity</th>\n",
       "      <th>Year</th>\n",
       "      <th>Period life expectancy at birth - Sex: all - Age: 0</th>\n",
       "    </tr>\n",
       "  </thead>\n",
       "  <tbody>\n",
       "    <tr>\n",
       "      <th>63</th>\n",
       "      <td>Afghanistan</td>\n",
       "      <td>2013</td>\n",
       "      <td>62.4167</td>\n",
       "    </tr>\n",
       "    <tr>\n",
       "      <th>64</th>\n",
       "      <td>Afghanistan</td>\n",
       "      <td>2014</td>\n",
       "      <td>62.5451</td>\n",
       "    </tr>\n",
       "    <tr>\n",
       "      <th>65</th>\n",
       "      <td>Afghanistan</td>\n",
       "      <td>2015</td>\n",
       "      <td>62.6587</td>\n",
       "    </tr>\n",
       "    <tr>\n",
       "      <th>66</th>\n",
       "      <td>Afghanistan</td>\n",
       "      <td>2016</td>\n",
       "      <td>63.1361</td>\n",
       "    </tr>\n",
       "    <tr>\n",
       "      <th>67</th>\n",
       "      <td>Afghanistan</td>\n",
       "      <td>2017</td>\n",
       "      <td>63.0160</td>\n",
       "    </tr>\n",
       "  </tbody>\n",
       "</table>\n",
       "</div>"
      ],
      "text/plain": [
       "         Entity  Year  Period life expectancy at birth - Sex: all - Age: 0\n",
       "63  Afghanistan  2013                                            62.4167  \n",
       "64  Afghanistan  2014                                            62.5451  \n",
       "65  Afghanistan  2015                                            62.6587  \n",
       "66  Afghanistan  2016                                            63.1361  \n",
       "67  Afghanistan  2017                                            63.0160  "
      ]
     },
     "execution_count": 4,
     "metadata": {},
     "output_type": "execute_result"
    }
   ],
   "source": [
    "# filter the life expectancy data for only years 2013 and beyond\n",
    "filtered_life_expectancy = life_expectancy.loc[life_expectancy['Year']>=2013]\n",
    "\n",
    "# drop code column as it is not needed\n",
    "filtered_life_expectancy = filtered_life_expectancy.drop(columns='Code')\n",
    "filtered_life_expectancy.head()"
   ]
  },
  {
   "cell_type": "markdown",
   "id": "0c0beeb6-5f9f-41f6-b8a2-d5c46f8a799b",
   "metadata": {},
   "source": [
    "## Merge Life Expectancy and World Happiness Datasets\n",
    "\n",
    "Now that all our data is cleaned up, let's merge the two datasets together. We will use the pandas .merge() function to combine the datasets. They will be merged on Country and Year to ensure the life expectancies line up with the country for a given year."
   ]
  },
  {
   "cell_type": "code",
   "execution_count": 5,
   "id": "dfb0bc42-09c1-43e9-9430-a685b1cd75fb",
   "metadata": {},
   "outputs": [
    {
     "data": {
      "text/html": [
       "<div>\n",
       "<style scoped>\n",
       "    .dataframe tbody tr th:only-of-type {\n",
       "        vertical-align: middle;\n",
       "    }\n",
       "\n",
       "    .dataframe tbody tr th {\n",
       "        vertical-align: top;\n",
       "    }\n",
       "\n",
       "    .dataframe thead th {\n",
       "        text-align: right;\n",
       "    }\n",
       "</style>\n",
       "<table border=\"1\" class=\"dataframe\">\n",
       "  <thead>\n",
       "    <tr style=\"text-align: right;\">\n",
       "      <th></th>\n",
       "      <th>Country</th>\n",
       "      <th>Year</th>\n",
       "      <th>Index</th>\n",
       "      <th>Period life expectancy at birth - Sex: all - Age: 0</th>\n",
       "    </tr>\n",
       "  </thead>\n",
       "  <tbody>\n",
       "    <tr>\n",
       "      <th>0</th>\n",
       "      <td>Afghanistan</td>\n",
       "      <td>2013</td>\n",
       "      <td>4.040</td>\n",
       "      <td>62.4167</td>\n",
       "    </tr>\n",
       "    <tr>\n",
       "      <th>1</th>\n",
       "      <td>Afghanistan</td>\n",
       "      <td>2015</td>\n",
       "      <td>3.575</td>\n",
       "      <td>62.6587</td>\n",
       "    </tr>\n",
       "    <tr>\n",
       "      <th>2</th>\n",
       "      <td>Afghanistan</td>\n",
       "      <td>2016</td>\n",
       "      <td>3.360</td>\n",
       "      <td>63.1361</td>\n",
       "    </tr>\n",
       "    <tr>\n",
       "      <th>3</th>\n",
       "      <td>Afghanistan</td>\n",
       "      <td>2017</td>\n",
       "      <td>3.794</td>\n",
       "      <td>63.0160</td>\n",
       "    </tr>\n",
       "    <tr>\n",
       "      <th>4</th>\n",
       "      <td>Afghanistan</td>\n",
       "      <td>2018</td>\n",
       "      <td>3.632</td>\n",
       "      <td>63.0810</td>\n",
       "    </tr>\n",
       "  </tbody>\n",
       "</table>\n",
       "</div>"
      ],
      "text/plain": [
       "       Country  Year  Index  \\\n",
       "0  Afghanistan  2013  4.040   \n",
       "1  Afghanistan  2015  3.575   \n",
       "2  Afghanistan  2016  3.360   \n",
       "3  Afghanistan  2017  3.794   \n",
       "4  Afghanistan  2018  3.632   \n",
       "\n",
       "   Period life expectancy at birth - Sex: all - Age: 0  \n",
       "0                                            62.4167    \n",
       "1                                            62.6587    \n",
       "2                                            63.1361    \n",
       "3                                            63.0160    \n",
       "4                                            63.0810    "
      ]
     },
     "execution_count": 5,
     "metadata": {},
     "output_type": "execute_result"
    }
   ],
   "source": [
    "# merge both datasets\n",
    "merged_data = pd.merge(world_happiness, filtered_life_expectancy, left_on=['Country', 'Year'], right_on=['Entity','Year'])\n",
    "\n",
    "# drop entity column as we have country\n",
    "merged_data = merged_data.drop(columns='Entity')\n",
    "merged_data.head()"
   ]
  },
  {
   "cell_type": "markdown",
   "id": "163ff226-ff37-4420-8c51-2dbc770569dc",
   "metadata": {},
   "source": [
    "Convert the countries to continents for easier analysis. This code was done with assistance from this thread: https://stackoverflow.com/questions/55910004/get-continent-name-from-country-using-pycountry.\n",
    "\n",
    "The country_to_continent function below originally didn't recognize Kosovo which was in the csv. To account for this error, if the country was Kosovo, we returned Europe for it.\n",
    "\n",
    "After creating the function, we will use this on our merged data using .apply() to create a new column with the Continent name for the Country."
   ]
  },
  {
   "cell_type": "code",
   "execution_count": 6,
   "id": "292c851f-3151-4d7e-bd00-8ad19b1ce35a",
   "metadata": {},
   "outputs": [
    {
     "name": "stderr",
     "output_type": "stream",
     "text": [
      "/opt/conda/lib/python3.10/site-packages/pycountry/db.py:51: UserWarning: Country's official_name not found. Country name provided instead.\n",
      "  warnings.warn(warning_message, UserWarning)\n",
      "/opt/conda/lib/python3.10/site-packages/pycountry/db.py:51: UserWarning: Country's common_name not found. Country name provided instead.\n",
      "  warnings.warn(warning_message, UserWarning)\n"
     ]
    },
    {
     "data": {
      "text/html": [
       "<div>\n",
       "<style scoped>\n",
       "    .dataframe tbody tr th:only-of-type {\n",
       "        vertical-align: middle;\n",
       "    }\n",
       "\n",
       "    .dataframe tbody tr th {\n",
       "        vertical-align: top;\n",
       "    }\n",
       "\n",
       "    .dataframe thead th {\n",
       "        text-align: right;\n",
       "    }\n",
       "</style>\n",
       "<table border=\"1\" class=\"dataframe\">\n",
       "  <thead>\n",
       "    <tr style=\"text-align: right;\">\n",
       "      <th></th>\n",
       "      <th>Country</th>\n",
       "      <th>Year</th>\n",
       "      <th>Index</th>\n",
       "      <th>Period life expectancy at birth - Sex: all - Age: 0</th>\n",
       "      <th>Continent</th>\n",
       "    </tr>\n",
       "  </thead>\n",
       "  <tbody>\n",
       "    <tr>\n",
       "      <th>0</th>\n",
       "      <td>Afghanistan</td>\n",
       "      <td>2013</td>\n",
       "      <td>4.040</td>\n",
       "      <td>62.4167</td>\n",
       "      <td>Asia</td>\n",
       "    </tr>\n",
       "    <tr>\n",
       "      <th>1</th>\n",
       "      <td>Afghanistan</td>\n",
       "      <td>2015</td>\n",
       "      <td>3.575</td>\n",
       "      <td>62.6587</td>\n",
       "      <td>Asia</td>\n",
       "    </tr>\n",
       "    <tr>\n",
       "      <th>2</th>\n",
       "      <td>Afghanistan</td>\n",
       "      <td>2016</td>\n",
       "      <td>3.360</td>\n",
       "      <td>63.1361</td>\n",
       "      <td>Asia</td>\n",
       "    </tr>\n",
       "    <tr>\n",
       "      <th>3</th>\n",
       "      <td>Afghanistan</td>\n",
       "      <td>2017</td>\n",
       "      <td>3.794</td>\n",
       "      <td>63.0160</td>\n",
       "      <td>Asia</td>\n",
       "    </tr>\n",
       "    <tr>\n",
       "      <th>4</th>\n",
       "      <td>Afghanistan</td>\n",
       "      <td>2018</td>\n",
       "      <td>3.632</td>\n",
       "      <td>63.0810</td>\n",
       "      <td>Asia</td>\n",
       "    </tr>\n",
       "  </tbody>\n",
       "</table>\n",
       "</div>"
      ],
      "text/plain": [
       "       Country  Year  Index  \\\n",
       "0  Afghanistan  2013  4.040   \n",
       "1  Afghanistan  2015  3.575   \n",
       "2  Afghanistan  2016  3.360   \n",
       "3  Afghanistan  2017  3.794   \n",
       "4  Afghanistan  2018  3.632   \n",
       "\n",
       "   Period life expectancy at birth - Sex: all - Age: 0 Continent  \n",
       "0                                            62.4167        Asia  \n",
       "1                                            62.6587        Asia  \n",
       "2                                            63.1361        Asia  \n",
       "3                                            63.0160        Asia  \n",
       "4                                            63.0810        Asia  "
      ]
     },
     "execution_count": 6,
     "metadata": {},
     "output_type": "execute_result"
    }
   ],
   "source": [
    "# converts countries to their continent\n",
    "def country_to_continent(country):\n",
    "    if country == \"Kosovo\":\n",
    "        return \"Europe\"\n",
    "    country_code = pc.country_name_to_country_alpha2(country)\n",
    "    if country_code is not None:\n",
    "        continent_code = pc.country_alpha2_to_continent_code(country_code)\n",
    "        if continent_code is not None:\n",
    "            continent_name = pc.convert_continent_code_to_continent_name(continent_code)\n",
    "            return continent_name\n",
    "    else:\n",
    "        return None\n",
    "    \n",
    "# use this on merged dataset\n",
    "merged_data['Continent'] = merged_data['Country'].apply(country_to_continent)\n",
    "merged_data.head()"
   ]
  },
  {
   "cell_type": "markdown",
   "id": "46c97c8a-154e-4413-89a0-e3cfea8d99ae",
   "metadata": {},
   "source": [
    "## Testing\n",
    "\n",
    "We checked for accuracy using the assertion tests - if the tests passed, there should be no error returned. These assertions for determining continent are based off the geographical locations of each country."
   ]
  },
  {
   "cell_type": "code",
   "execution_count": 7,
   "id": "e7c772d0-bc3f-49c5-a9ba-ebdbafd5ab85",
   "metadata": {},
   "outputs": [],
   "source": [
    "# assertion tests\n",
    "assert country_to_continent(\"Germany\") == \"Europe\"\n",
    "assert country_to_continent(\"United States\") == \"North America\"\n",
    "assert country_to_continent(\"Kosovo\") == \"Europe\"\n",
    "assert country_to_continent(\"Brazil\") == \"South America\"\n",
    "assert country_to_continent(\"Australia\") == \"Oceania\"\n",
    "assert country_to_continent(\"Afghanistan\") == \"Asia\""
   ]
  },
  {
   "cell_type": "markdown",
   "id": "7afa81d0-8eb0-4d39-b00b-9654b52c98b4",
   "metadata": {},
   "source": [
    "## Creating the World Happiness vs. Life Expectancy Visualizations\n",
    "\n",
    "Now we will average the life expectancies for a single year for each continent. Because there were multiple years values in our merged_data dataframe, we need to have data from years 2013 - 2021 for each Continent. Drop the Country column and group the data accordingly for life expectancies and world happiness indexes and use .mean() to find the average value for each item in a given year."
   ]
  },
  {
   "cell_type": "code",
   "execution_count": 8,
   "id": "eb933f6b-d7bb-4a73-91fb-56311372c980",
   "metadata": {},
   "outputs": [
    {
     "data": {
      "text/plain": [
       "Continent  Year\n",
       "Africa     2013    61.581927\n",
       "           2015    62.482523\n",
       "           2016    63.233467\n",
       "           2017    63.035141\n",
       "           2018    63.360751\n",
       "Name: Period life expectancy at birth - Sex: all - Age: 0, dtype: float64"
      ]
     },
     "execution_count": 8,
     "metadata": {},
     "output_type": "execute_result"
    }
   ],
   "source": [
    "# average all life expectancies for a year for a continent\n",
    "merged_data = merged_data.drop(columns='Country')\n",
    "avg_life_exp = merged_data.groupby(['Continent', 'Year'])['Period life expectancy at birth - Sex: all - Age: 0'].mean()\n",
    "avg_life_exp.head()"
   ]
  },
  {
   "cell_type": "markdown",
   "id": "007ed1ea-259e-4c1e-a838-72f10e963ead",
   "metadata": {},
   "source": [
    "Repeat for the world happiness indexes."
   ]
  },
  {
   "cell_type": "code",
   "execution_count": 9,
   "id": "77fca225-c479-4a70-abd6-fad226b917f6",
   "metadata": {},
   "outputs": [
    {
     "data": {
      "text/plain": [
       "Continent  Year\n",
       "Africa     2013    4.420450\n",
       "           2015    4.283300\n",
       "           2016    4.262333\n",
       "           2017    4.238707\n",
       "           2018    4.274561\n",
       "Name: Index, dtype: float64"
      ]
     },
     "execution_count": 9,
     "metadata": {},
     "output_type": "execute_result"
    }
   ],
   "source": [
    "# average all happiness indexes for a year for a continent\n",
    "avg_happiness = merged_data.groupby(['Continent', 'Year'])['Index'].mean()\n",
    "avg_happiness.head()"
   ]
  },
  {
   "cell_type": "markdown",
   "id": "dfbdc3b7-dca6-4b2e-98e6-e15c6c53af22",
   "metadata": {},
   "source": [
    "Now, we will merge the averaged world happiness index and life expectancies dataframes on Continent and Year to have their values next to each other for the visualizations that will follow. Reset the index to ensure the format of the table is accurate."
   ]
  },
  {
   "cell_type": "code",
   "execution_count": 10,
   "id": "de61d7ee-f814-4d6c-a6dc-11aa0e6b09ba",
   "metadata": {},
   "outputs": [],
   "source": [
    "# merge two averaged datasets on continent and year\n",
    "new_merged_data = pd.merge(avg_life_exp, avg_happiness, on=['Continent', 'Year'])\n",
    "\n",
    "# reset index for proper formatting\n",
    "new_merged_data = new_merged_data.reset_index()\n",
    "#new_merged_data.to_csv('happiness_vs_life_expectancy.csv')"
   ]
  },
  {
   "cell_type": "markdown",
   "id": "70a82259-6acd-4ce5-93ba-ba616e2764ea",
   "metadata": {},
   "source": [
    "Using plot.ly, we are first going to graph the life expectancies for each continent for each year, 2013 - 2021. The x-axis will be the year, the y-axis will be the average life expectancy for that year, and the color will be the continent, so each continent's graphs will be combined to be shown on one graph for this initial viewing purpose. Show the plot by writing it to an html (.show() did not work in the Jupyter notebook)."
   ]
  },
  {
   "cell_type": "code",
   "execution_count": 11,
   "id": "be394602-3015-4638-897c-0deee20e39b3",
   "metadata": {},
   "outputs": [],
   "source": [
    "# create visualization plotting year with life expectancy for all continents with plot.ly\n",
    "fig_life = px.line(new_merged_data, x = 'Year' ,\n",
    "              y = 'Period life expectancy at birth - Sex: all - Age: 0',\n",
    "              color = 'Continent',\n",
    "              title = 'Life Expectancy Trends for Each Continent from 2013 - 2021')\n",
    "\n",
    "# show plot by writing it to html\n",
    "fig_life.write_html('life_plot.html')"
   ]
  },
  {
   "cell_type": "markdown",
   "id": "1ead3396-bd6e-41f5-96f0-c7e8abeb8e8f",
   "metadata": {},
   "source": [
    "Repeat but replace the y variable will world happiness index now, as we want to see trends in index for each continent in order to compare life expectancy and world happiness index in the statistical analysis section that follows."
   ]
  },
  {
   "cell_type": "code",
   "execution_count": 12,
   "id": "d4bf55c2-a31d-4b7b-bb2b-dfe1f411d893",
   "metadata": {},
   "outputs": [],
   "source": [
    "# plot year with happiness index for all continents\n",
    "fig_life2 = px.line(new_merged_data, x = 'Year' ,\n",
    "              y = 'Index',\n",
    "              color = 'Continent',\n",
    "              title = 'World Happiness Index Trends for Each Continent from 2013 - 2021')\n",
    "\n",
    "fig_life2.write_html('life_plot2.html')"
   ]
  },
  {
   "cell_type": "markdown",
   "id": "7bf851c0-efbc-4281-aa79-b72617254c70",
   "metadata": {},
   "source": [
    "## Pearson Correlation Coefficient Statistical Analysis\n",
    "\n",
    "In order to meet our challenge goal, we had one being testing for result validility. We chose to do this in the form of a correlation analysis.\n",
    "\n",
    "Now let's analyze the relationship between world happiness index and life expectancy for a continent overall. We picked the Pearson correlation coefficient because this method can be used to determine the correlation between two different variables. A positive value means that the two variables either both increase or decrease while a negative value means one variable is decrease while another is increasing and vice versa. A stronger correlation, either positive or negative, will be closer to 1.\n",
    "\n",
    "Begin the analysis for Africa. We will first sort the new_merged_data to get values only where Continent is equal to Africa, and then use .corr(method='pearson') to calculate the Pearson correlation coefficient between world happiness and life expectancy for Africa over all years 2013 - 2021."
   ]
  },
  {
   "cell_type": "code",
   "execution_count": 13,
   "id": "1101218f-3917-4475-8fa0-ce82d341c019",
   "metadata": {},
   "outputs": [
    {
     "data": {
      "text/html": [
       "<div>\n",
       "<style scoped>\n",
       "    .dataframe tbody tr th:only-of-type {\n",
       "        vertical-align: middle;\n",
       "    }\n",
       "\n",
       "    .dataframe tbody tr th {\n",
       "        vertical-align: top;\n",
       "    }\n",
       "\n",
       "    .dataframe thead th {\n",
       "        text-align: right;\n",
       "    }\n",
       "</style>\n",
       "<table border=\"1\" class=\"dataframe\">\n",
       "  <thead>\n",
       "    <tr style=\"text-align: right;\">\n",
       "      <th></th>\n",
       "      <th>Period life expectancy at birth - Sex: all - Age: 0</th>\n",
       "      <th>Index</th>\n",
       "    </tr>\n",
       "  </thead>\n",
       "  <tbody>\n",
       "    <tr>\n",
       "      <th>Period life expectancy at birth - Sex: all - Age: 0</th>\n",
       "      <td>1.000000</td>\n",
       "      <td>-0.185191</td>\n",
       "    </tr>\n",
       "    <tr>\n",
       "      <th>Index</th>\n",
       "      <td>-0.185191</td>\n",
       "      <td>1.000000</td>\n",
       "    </tr>\n",
       "  </tbody>\n",
       "</table>\n",
       "</div>"
      ],
      "text/plain": [
       "                                                    Period life expectancy at birth - Sex: all - Age: 0  \\\n",
       "Period life expectancy at birth - Sex: all - Ag...                                           1.000000     \n",
       "Index                                                                                       -0.185191     \n",
       "\n",
       "                                                       Index  \n",
       "Period life expectancy at birth - Sex: all - Ag... -0.185191  \n",
       "Index                                               1.000000  "
      ]
     },
     "execution_count": 13,
     "metadata": {},
     "output_type": "execute_result"
    }
   ],
   "source": [
    "# statistical analysis - pearson correlation coefficient for all continents\n",
    "\n",
    "# africa\n",
    "# filter new_merged_data with only rows where Continent is Africa\n",
    "africa_life = new_merged_data[new_merged_data['Continent']=='Africa']\n",
    "\n",
    "# drop columns Continent and Year for calculating pearson correlation coefficient and rename table\n",
    "africa_corr = africa_life.drop(columns=['Continent','Year'])\n",
    "africa_corr.corr(method='pearson')"
   ]
  },
  {
   "cell_type": "markdown",
   "id": "39fce667-9257-45ba-92b2-a1672b6c573b",
   "metadata": {},
   "source": [
    "Repeat for Asia, Europe, North America, Oceania, and South America."
   ]
  },
  {
   "cell_type": "code",
   "execution_count": 14,
   "id": "bcfd726c-6775-4a23-aa7b-dddd32096d74",
   "metadata": {},
   "outputs": [
    {
     "data": {
      "text/html": [
       "<div>\n",
       "<style scoped>\n",
       "    .dataframe tbody tr th:only-of-type {\n",
       "        vertical-align: middle;\n",
       "    }\n",
       "\n",
       "    .dataframe tbody tr th {\n",
       "        vertical-align: top;\n",
       "    }\n",
       "\n",
       "    .dataframe thead th {\n",
       "        text-align: right;\n",
       "    }\n",
       "</style>\n",
       "<table border=\"1\" class=\"dataframe\">\n",
       "  <thead>\n",
       "    <tr style=\"text-align: right;\">\n",
       "      <th></th>\n",
       "      <th>Period life expectancy at birth - Sex: all - Age: 0</th>\n",
       "      <th>Index</th>\n",
       "    </tr>\n",
       "  </thead>\n",
       "  <tbody>\n",
       "    <tr>\n",
       "      <th>Period life expectancy at birth - Sex: all - Age: 0</th>\n",
       "      <td>1.000000</td>\n",
       "      <td>-0.644533</td>\n",
       "    </tr>\n",
       "    <tr>\n",
       "      <th>Index</th>\n",
       "      <td>-0.644533</td>\n",
       "      <td>1.000000</td>\n",
       "    </tr>\n",
       "  </tbody>\n",
       "</table>\n",
       "</div>"
      ],
      "text/plain": [
       "                                                    Period life expectancy at birth - Sex: all - Age: 0  \\\n",
       "Period life expectancy at birth - Sex: all - Ag...                                           1.000000     \n",
       "Index                                                                                       -0.644533     \n",
       "\n",
       "                                                       Index  \n",
       "Period life expectancy at birth - Sex: all - Ag... -0.644533  \n",
       "Index                                               1.000000  "
      ]
     },
     "execution_count": 14,
     "metadata": {},
     "output_type": "execute_result"
    }
   ],
   "source": [
    "# asia\n",
    "asia_life = new_merged_data[new_merged_data['Continent']=='Asia']\n",
    "asia_corr = asia_life.drop(columns=['Continent','Year'])\n",
    "asia_corr.corr(method='pearson')"
   ]
  },
  {
   "cell_type": "code",
   "execution_count": 15,
   "id": "6dcb1f74-03ef-4732-b8c9-3ee02a004301",
   "metadata": {},
   "outputs": [
    {
     "data": {
      "text/html": [
       "<div>\n",
       "<style scoped>\n",
       "    .dataframe tbody tr th:only-of-type {\n",
       "        vertical-align: middle;\n",
       "    }\n",
       "\n",
       "    .dataframe tbody tr th {\n",
       "        vertical-align: top;\n",
       "    }\n",
       "\n",
       "    .dataframe thead th {\n",
       "        text-align: right;\n",
       "    }\n",
       "</style>\n",
       "<table border=\"1\" class=\"dataframe\">\n",
       "  <thead>\n",
       "    <tr style=\"text-align: right;\">\n",
       "      <th></th>\n",
       "      <th>Period life expectancy at birth - Sex: all - Age: 0</th>\n",
       "      <th>Index</th>\n",
       "    </tr>\n",
       "  </thead>\n",
       "  <tbody>\n",
       "    <tr>\n",
       "      <th>Period life expectancy at birth - Sex: all - Age: 0</th>\n",
       "      <td>1.000000</td>\n",
       "      <td>-0.176369</td>\n",
       "    </tr>\n",
       "    <tr>\n",
       "      <th>Index</th>\n",
       "      <td>-0.176369</td>\n",
       "      <td>1.000000</td>\n",
       "    </tr>\n",
       "  </tbody>\n",
       "</table>\n",
       "</div>"
      ],
      "text/plain": [
       "                                                    Period life expectancy at birth - Sex: all - Age: 0  \\\n",
       "Period life expectancy at birth - Sex: all - Ag...                                           1.000000     \n",
       "Index                                                                                       -0.176369     \n",
       "\n",
       "                                                       Index  \n",
       "Period life expectancy at birth - Sex: all - Ag... -0.176369  \n",
       "Index                                               1.000000  "
      ]
     },
     "execution_count": 15,
     "metadata": {},
     "output_type": "execute_result"
    }
   ],
   "source": [
    "# europe\n",
    "europe_life = new_merged_data[new_merged_data['Continent']=='Europe']\n",
    "europe_corr = europe_life.drop(columns=['Continent','Year'])\n",
    "europe_corr.corr(method='pearson')"
   ]
  },
  {
   "cell_type": "code",
   "execution_count": 16,
   "id": "208b629a-03eb-4f45-af40-aaadd5fe2340",
   "metadata": {},
   "outputs": [
    {
     "data": {
      "text/html": [
       "<div>\n",
       "<style scoped>\n",
       "    .dataframe tbody tr th:only-of-type {\n",
       "        vertical-align: middle;\n",
       "    }\n",
       "\n",
       "    .dataframe tbody tr th {\n",
       "        vertical-align: top;\n",
       "    }\n",
       "\n",
       "    .dataframe thead th {\n",
       "        text-align: right;\n",
       "    }\n",
       "</style>\n",
       "<table border=\"1\" class=\"dataframe\">\n",
       "  <thead>\n",
       "    <tr style=\"text-align: right;\">\n",
       "      <th></th>\n",
       "      <th>Period life expectancy at birth - Sex: all - Age: 0</th>\n",
       "      <th>Index</th>\n",
       "    </tr>\n",
       "  </thead>\n",
       "  <tbody>\n",
       "    <tr>\n",
       "      <th>Period life expectancy at birth - Sex: all - Age: 0</th>\n",
       "      <td>1.000000</td>\n",
       "      <td>-0.168439</td>\n",
       "    </tr>\n",
       "    <tr>\n",
       "      <th>Index</th>\n",
       "      <td>-0.168439</td>\n",
       "      <td>1.000000</td>\n",
       "    </tr>\n",
       "  </tbody>\n",
       "</table>\n",
       "</div>"
      ],
      "text/plain": [
       "                                                    Period life expectancy at birth - Sex: all - Age: 0  \\\n",
       "Period life expectancy at birth - Sex: all - Ag...                                           1.000000     \n",
       "Index                                                                                       -0.168439     \n",
       "\n",
       "                                                       Index  \n",
       "Period life expectancy at birth - Sex: all - Ag... -0.168439  \n",
       "Index                                               1.000000  "
      ]
     },
     "execution_count": 16,
     "metadata": {},
     "output_type": "execute_result"
    }
   ],
   "source": [
    "# north america\n",
    "north_life = new_merged_data[new_merged_data['Continent']=='North America']\n",
    "north_corr = north_life.drop(columns=['Continent','Year'])\n",
    "north_corr.corr(method='pearson')"
   ]
  },
  {
   "cell_type": "code",
   "execution_count": 17,
   "id": "5a0c2eb8-c130-4258-ba28-ea45dfd49c51",
   "metadata": {},
   "outputs": [
    {
     "data": {
      "text/html": [
       "<div>\n",
       "<style scoped>\n",
       "    .dataframe tbody tr th:only-of-type {\n",
       "        vertical-align: middle;\n",
       "    }\n",
       "\n",
       "    .dataframe tbody tr th {\n",
       "        vertical-align: top;\n",
       "    }\n",
       "\n",
       "    .dataframe thead th {\n",
       "        text-align: right;\n",
       "    }\n",
       "</style>\n",
       "<table border=\"1\" class=\"dataframe\">\n",
       "  <thead>\n",
       "    <tr style=\"text-align: right;\">\n",
       "      <th></th>\n",
       "      <th>Period life expectancy at birth - Sex: all - Age: 0</th>\n",
       "      <th>Index</th>\n",
       "    </tr>\n",
       "  </thead>\n",
       "  <tbody>\n",
       "    <tr>\n",
       "      <th>Period life expectancy at birth - Sex: all - Age: 0</th>\n",
       "      <td>1.000000</td>\n",
       "      <td>-0.695444</td>\n",
       "    </tr>\n",
       "    <tr>\n",
       "      <th>Index</th>\n",
       "      <td>-0.695444</td>\n",
       "      <td>1.000000</td>\n",
       "    </tr>\n",
       "  </tbody>\n",
       "</table>\n",
       "</div>"
      ],
      "text/plain": [
       "                                                    Period life expectancy at birth - Sex: all - Age: 0  \\\n",
       "Period life expectancy at birth - Sex: all - Ag...                                           1.000000     \n",
       "Index                                                                                       -0.695444     \n",
       "\n",
       "                                                       Index  \n",
       "Period life expectancy at birth - Sex: all - Ag... -0.695444  \n",
       "Index                                               1.000000  "
      ]
     },
     "execution_count": 17,
     "metadata": {},
     "output_type": "execute_result"
    }
   ],
   "source": [
    "# oceania\n",
    "oceania_life = new_merged_data[new_merged_data['Continent']=='Oceania']\n",
    "oceania_corr = oceania_life.drop(columns=['Continent','Year'])\n",
    "oceania_corr.corr(method='pearson')"
   ]
  },
  {
   "cell_type": "code",
   "execution_count": 18,
   "id": "1368a9ae-d173-4915-b55b-c582c6c4c56d",
   "metadata": {},
   "outputs": [
    {
     "data": {
      "text/html": [
       "<div>\n",
       "<style scoped>\n",
       "    .dataframe tbody tr th:only-of-type {\n",
       "        vertical-align: middle;\n",
       "    }\n",
       "\n",
       "    .dataframe tbody tr th {\n",
       "        vertical-align: top;\n",
       "    }\n",
       "\n",
       "    .dataframe thead th {\n",
       "        text-align: right;\n",
       "    }\n",
       "</style>\n",
       "<table border=\"1\" class=\"dataframe\">\n",
       "  <thead>\n",
       "    <tr style=\"text-align: right;\">\n",
       "      <th></th>\n",
       "      <th>Period life expectancy at birth - Sex: all - Age: 0</th>\n",
       "      <th>Index</th>\n",
       "    </tr>\n",
       "  </thead>\n",
       "  <tbody>\n",
       "    <tr>\n",
       "      <th>Period life expectancy at birth - Sex: all - Age: 0</th>\n",
       "      <td>1.000000</td>\n",
       "      <td>0.254417</td>\n",
       "    </tr>\n",
       "    <tr>\n",
       "      <th>Index</th>\n",
       "      <td>0.254417</td>\n",
       "      <td>1.000000</td>\n",
       "    </tr>\n",
       "  </tbody>\n",
       "</table>\n",
       "</div>"
      ],
      "text/plain": [
       "                                                    Period life expectancy at birth - Sex: all - Age: 0  \\\n",
       "Period life expectancy at birth - Sex: all - Ag...                                           1.000000     \n",
       "Index                                                                                        0.254417     \n",
       "\n",
       "                                                       Index  \n",
       "Period life expectancy at birth - Sex: all - Ag...  0.254417  \n",
       "Index                                               1.000000  "
      ]
     },
     "execution_count": 18,
     "metadata": {},
     "output_type": "execute_result"
    }
   ],
   "source": [
    "# south america\n",
    "south_life = new_merged_data[new_merged_data['Continent']=='South America']\n",
    "south_corr = south_life.drop(columns=['Continent','Year'])\n",
    "south_corr.corr(method='pearson')"
   ]
  },
  {
   "cell_type": "markdown",
   "id": "8f5bd06c-4c26-4498-be83-322a8aedd38d",
   "metadata": {},
   "source": [
    "Plot one dataset to see the correlation visualized. Here we are plotting Oceania as it had the highest Pearson correlation coefficient of -0.69."
   ]
  },
  {
   "cell_type": "code",
   "execution_count": 19,
   "id": "7cf98c1e-ae34-426a-b97e-b59ae3bc1f63",
   "metadata": {},
   "outputs": [],
   "source": [
    "# plot one data set more closely to see pearson correlation coefficient\n",
    "# this is life expectancy trends for the continent of oceania\n",
    "fig_africa_life = px.line(oceania_life, x = 'Year' ,\n",
    "              y = 'Period life expectancy at birth - Sex: all - Age: 0',\n",
    "              color = 'Continent',\n",
    "              title = 'Life Expectancy Trends for Africa from 2013 - 2021')\n",
    "\n",
    "fig_africa_life.write_html('africa_life_plot.html')"
   ]
  },
  {
   "cell_type": "code",
   "execution_count": 20,
   "id": "04f46d17-ef09-45fe-8c30-df20e7f304c7",
   "metadata": {},
   "outputs": [],
   "source": [
    "# plot one data set more closely to see pearson correlation coefficient\n",
    "# this is world happiness index trends for the continent of oceania\n",
    "fig_africa_life2 = px.line(oceania_life, x = 'Year' ,\n",
    "              y = 'Index',\n",
    "              color = 'Continent',\n",
    "              title = 'World Happiness Index Trends for Africa from 2013 - 2021')\n",
    "\n",
    "fig_africa_life2.write_html('africa_life_plot2.html')"
   ]
  },
  {
   "cell_type": "markdown",
   "id": "885c1704-3a6f-49fe-9952-81e6da981273",
   "metadata": {},
   "source": [
    "## Result\n",
    "\n",
    "The research question for this section was: *How is life expectancy correlated with the world happiness level for all 7 \n",
    "continents from 2013 - 2021?*\n",
    "\n",
    "The main finding was that Oceania and Asia had strong negative correlations between world happiness index and life expectancy over 2013 - 2021. This means that as world happiness index increased, the life expectancy rate decreased and vice versa. This is an interesting finding, because world happiness index is calculated from a lot of variables, such as GDP, social support, freedom to make life choices, etc., so it would make more sense for a greater happiness index to indicate a longer lifespan as it means less stress on life. However, life expectancy is taken into account in the World Happiness Index dataset, so that could explain why the results turned out this way.\n",
    "\n",
    "It was surprising the other continents did not have nearly as strong correlations, and it was interesting how majority of the correlations were negative. This likely shows that if there's any relationship between world happiness index and death rate, it is likely to be inversed."
   ]
  },
  {
   "cell_type": "markdown",
   "id": "7d5bec1c-f5ce-450c-989f-ba29c2fca73d",
   "metadata": {},
   "source": [
    "## Impact and Limitations\n",
    "\n",
    "The main limitation is that this dataset is too general because it combines all countries into their respective continents. Some continents, such as Europe and Asia have a multitude of countries that are culturally different from each other, so by analyzing the correlations within continents, it really generalizes the results and affect the accuracy for all countries in a given continent. This result should mainly be viewed as overarching trends within a decade. Also, life expectancy is taken into account in the World Happiness Index dataset, so that could explain why the results turned out this way. The potential implication of these results is that this data may be harmful for people from Oceania and Asia because of the strong negative Pearson correlation coefficient between happiness index and life expectancy, as a shorter lifespan despite increased world happiness could be viewed as negative in some contexts. More statistical analysis should be done to determine the accuracy of these claims, and this data should preferrably be used to guide policymakers and government rather be shown to the public, as it can allow them to determine how to focus on Oceania and Asia's results in order increase the overall quality of life for people living in those two continents."
   ]
  },
  {
   "cell_type": "markdown",
   "id": "be1d76fb-8f77-4771-8890-54d7c06d104b",
   "metadata": {},
   "source": [
    "## Plan Evaluation for Part 2\n",
    "\n",
    "This section was predicted to take 4 days and it was accurate. The main issue we came across is that sometimes the code produced errors which we couldn't solve easily, so we had to troubleshoot, which took majority of our time."
   ]
  }
 ],
 "metadata": {
  "kernelspec": {
   "display_name": "Python 3 (ipykernel)",
   "language": "python",
   "name": "python3"
  },
  "language_info": {
   "codemirror_mode": {
    "name": "ipython",
    "version": 3
   },
   "file_extension": ".py",
   "mimetype": "text/x-python",
   "name": "python",
   "nbconvert_exporter": "python",
   "pygments_lexer": "ipython3",
   "version": "3.10.13"
  }
 },
 "nbformat": 4,
 "nbformat_minor": 5
}
