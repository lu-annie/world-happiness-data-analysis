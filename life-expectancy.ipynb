{
 "cells": [
  {
   "cell_type": "markdown",
   "id": "614fdcf1-45a1-46b2-a452-cd21a4b29ed8",
   "metadata": {},
   "source": [
    "# Part 2: Life Expectancy vs World Happiness Level"
   ]
  },
  {
   "cell_type": "markdown",
   "id": "bd2701f5-20ab-4123-ad3e-446f7cbb1990",
   "metadata": {},
   "source": [
    "## Task: Load in Data\n",
    "For this section of the project, we will be comparing the world life expectancy rates for all 7 continents to the world happiness levels to see if they correlate. Let's begin by loading the csv files."
   ]
  },
  {
   "cell_type": "code",
   "execution_count": null,
   "id": "a1ffc5aa-9543-4e21-be12-514796b8563e",
   "metadata": {},
   "outputs": [
    {
     "name": "stdout",
     "output_type": "stream",
     "text": [
      "Requirement already satisfied: pandas in /opt/conda/lib/python3.10/site-packages (2.1.4)\n",
      "Requirement already satisfied: numpy<2,>=1.22.4 in /opt/conda/lib/python3.10/site-packages (from pandas) (1.26.3)\n",
      "Requirement already satisfied: python-dateutil>=2.8.2 in /opt/conda/lib/python3.10/site-packages (from pandas) (2.8.2)\n",
      "Requirement already satisfied: pytz>=2020.1 in /opt/conda/lib/python3.10/site-packages (from pandas) (2023.3.post1)\n",
      "Requirement already satisfied: tzdata>=2022.1 in /opt/conda/lib/python3.10/site-packages (from pandas) (2023.4)\n",
      "Requirement already satisfied: six>=1.5 in /opt/conda/lib/python3.10/site-packages (from python-dateutil>=2.8.2->pandas) (1.16.0)\n",
      "Requirement already satisfied: plotly in /opt/conda/lib/python3.10/site-packages (5.19.0)\n",
      "Requirement already satisfied: tenacity>=6.2.0 in /opt/conda/lib/python3.10/site-packages (from plotly) (8.2.3)\n",
      "Requirement already satisfied: packaging in /opt/conda/lib/python3.10/site-packages (from plotly) (23.2)\n"
     ]
    }
   ],
   "source": [
    "!pip install pandas\n",
    "!pip install plotly\n",
    "!pip install -q folium mapclassify\n",
    "!pip install pycountry-convert\n",
    "%matplotlib inline\n",
    "\n",
    "import geopandas as gpd\n",
    "import pandas as pd\n",
    "import plotly.express as px\n",
    "import plotly.graph_objects as go\n",
    "import pycountry_convert as pc\n",
    "\n",
    "# read csvs for world happiness and life expectancy\n",
    "world_happiness = pd.read_csv(\"world_happiness.csv\")\n",
    "life_expectancy = pd.read_csv(\"life_expectancy.csv\")"
   ]
  },
  {
   "cell_type": "markdown",
   "id": "fec26c69-e7b4-47c1-b91e-0543489ae273",
   "metadata": {},
   "source": [
    "Great! Now let's display the world happiness and life expectancy datasets to see what we need to fix."
   ]
  },
  {
   "cell_type": "code",
   "execution_count": 45,
   "id": "1939deb5-06fd-4cae-b16e-10942bcacd65",
   "metadata": {},
   "outputs": [
    {
     "data": {
      "text/html": [
       "<div>\n",
       "<style scoped>\n",
       "    .dataframe tbody tr th:only-of-type {\n",
       "        vertical-align: middle;\n",
       "    }\n",
       "\n",
       "    .dataframe tbody tr th {\n",
       "        vertical-align: top;\n",
       "    }\n",
       "\n",
       "    .dataframe thead th {\n",
       "        text-align: right;\n",
       "    }\n",
       "</style>\n",
       "<table border=\"1\" class=\"dataframe\">\n",
       "  <thead>\n",
       "    <tr style=\"text-align: right;\">\n",
       "      <th></th>\n",
       "      <th>Country</th>\n",
       "      <th>Year</th>\n",
       "      <th>Index</th>\n",
       "    </tr>\n",
       "  </thead>\n",
       "  <tbody>\n",
       "    <tr>\n",
       "      <th>0</th>\n",
       "      <td>Afghanistan</td>\n",
       "      <td>2013</td>\n",
       "      <td>4.040</td>\n",
       "    </tr>\n",
       "    <tr>\n",
       "      <th>1</th>\n",
       "      <td>Afghanistan</td>\n",
       "      <td>2015</td>\n",
       "      <td>3.575</td>\n",
       "    </tr>\n",
       "    <tr>\n",
       "      <th>2</th>\n",
       "      <td>Afghanistan</td>\n",
       "      <td>2016</td>\n",
       "      <td>3.360</td>\n",
       "    </tr>\n",
       "    <tr>\n",
       "      <th>3</th>\n",
       "      <td>Afghanistan</td>\n",
       "      <td>2017</td>\n",
       "      <td>3.794</td>\n",
       "    </tr>\n",
       "    <tr>\n",
       "      <th>4</th>\n",
       "      <td>Afghanistan</td>\n",
       "      <td>2018</td>\n",
       "      <td>3.632</td>\n",
       "    </tr>\n",
       "  </tbody>\n",
       "</table>\n",
       "</div>"
      ],
      "text/plain": [
       "       Country  Year  Index\n",
       "0  Afghanistan  2013  4.040\n",
       "1  Afghanistan  2015  3.575\n",
       "2  Afghanistan  2016  3.360\n",
       "3  Afghanistan  2017  3.794\n",
       "4  Afghanistan  2018  3.632"
      ]
     },
     "execution_count": 45,
     "metadata": {},
     "output_type": "execute_result"
    }
   ],
   "source": [
    "# drop the Rank column as it is not needed for analysis\n",
    "world_happiness = world_happiness.drop(columns='Rank')\n",
    "\n",
    "# show dataframe\n",
    "world_happiness.head()"
   ]
  },
  {
   "cell_type": "code",
   "execution_count": 46,
   "id": "57bcd873-7025-4d01-a765-dbf77ba7f3dd",
   "metadata": {},
   "outputs": [
    {
     "data": {
      "text/html": [
       "<div>\n",
       "<style scoped>\n",
       "    .dataframe tbody tr th:only-of-type {\n",
       "        vertical-align: middle;\n",
       "    }\n",
       "\n",
       "    .dataframe tbody tr th {\n",
       "        vertical-align: top;\n",
       "    }\n",
       "\n",
       "    .dataframe thead th {\n",
       "        text-align: right;\n",
       "    }\n",
       "</style>\n",
       "<table border=\"1\" class=\"dataframe\">\n",
       "  <thead>\n",
       "    <tr style=\"text-align: right;\">\n",
       "      <th></th>\n",
       "      <th>Entity</th>\n",
       "      <th>Code</th>\n",
       "      <th>Year</th>\n",
       "      <th>Period life expectancy at birth - Sex: all - Age: 0</th>\n",
       "    </tr>\n",
       "  </thead>\n",
       "  <tbody>\n",
       "    <tr>\n",
       "      <th>0</th>\n",
       "      <td>Afghanistan</td>\n",
       "      <td>AFG</td>\n",
       "      <td>1950</td>\n",
       "      <td>27.7275</td>\n",
       "    </tr>\n",
       "    <tr>\n",
       "      <th>1</th>\n",
       "      <td>Afghanistan</td>\n",
       "      <td>AFG</td>\n",
       "      <td>1951</td>\n",
       "      <td>27.9634</td>\n",
       "    </tr>\n",
       "    <tr>\n",
       "      <th>2</th>\n",
       "      <td>Afghanistan</td>\n",
       "      <td>AFG</td>\n",
       "      <td>1952</td>\n",
       "      <td>28.4456</td>\n",
       "    </tr>\n",
       "    <tr>\n",
       "      <th>3</th>\n",
       "      <td>Afghanistan</td>\n",
       "      <td>AFG</td>\n",
       "      <td>1953</td>\n",
       "      <td>28.9304</td>\n",
       "    </tr>\n",
       "    <tr>\n",
       "      <th>4</th>\n",
       "      <td>Afghanistan</td>\n",
       "      <td>AFG</td>\n",
       "      <td>1954</td>\n",
       "      <td>29.2258</td>\n",
       "    </tr>\n",
       "  </tbody>\n",
       "</table>\n",
       "</div>"
      ],
      "text/plain": [
       "        Entity Code  Year  Period life expectancy at birth - Sex: all - Age: 0\n",
       "0  Afghanistan  AFG  1950                                            27.7275  \n",
       "1  Afghanistan  AFG  1951                                            27.9634  \n",
       "2  Afghanistan  AFG  1952                                            28.4456  \n",
       "3  Afghanistan  AFG  1953                                            28.9304  \n",
       "4  Afghanistan  AFG  1954                                            29.2258  "
      ]
     },
     "execution_count": 46,
     "metadata": {},
     "output_type": "execute_result"
    }
   ],
   "source": [
    "life_expectancy.head()"
   ]
  },
  {
   "cell_type": "code",
   "execution_count": 47,
   "id": "5a7b70d6-9e3b-4acd-8e18-f916e484a73d",
   "metadata": {},
   "outputs": [
    {
     "data": {
      "text/html": [
       "<div>\n",
       "<style scoped>\n",
       "    .dataframe tbody tr th:only-of-type {\n",
       "        vertical-align: middle;\n",
       "    }\n",
       "\n",
       "    .dataframe tbody tr th {\n",
       "        vertical-align: top;\n",
       "    }\n",
       "\n",
       "    .dataframe thead th {\n",
       "        text-align: right;\n",
       "    }\n",
       "</style>\n",
       "<table border=\"1\" class=\"dataframe\">\n",
       "  <thead>\n",
       "    <tr style=\"text-align: right;\">\n",
       "      <th></th>\n",
       "      <th>Entity</th>\n",
       "      <th>Year</th>\n",
       "      <th>Period life expectancy at birth - Sex: all - Age: 0</th>\n",
       "    </tr>\n",
       "  </thead>\n",
       "  <tbody>\n",
       "    <tr>\n",
       "      <th>63</th>\n",
       "      <td>Afghanistan</td>\n",
       "      <td>2013</td>\n",
       "      <td>62.4167</td>\n",
       "    </tr>\n",
       "    <tr>\n",
       "      <th>64</th>\n",
       "      <td>Afghanistan</td>\n",
       "      <td>2014</td>\n",
       "      <td>62.5451</td>\n",
       "    </tr>\n",
       "    <tr>\n",
       "      <th>65</th>\n",
       "      <td>Afghanistan</td>\n",
       "      <td>2015</td>\n",
       "      <td>62.6587</td>\n",
       "    </tr>\n",
       "    <tr>\n",
       "      <th>66</th>\n",
       "      <td>Afghanistan</td>\n",
       "      <td>2016</td>\n",
       "      <td>63.1361</td>\n",
       "    </tr>\n",
       "    <tr>\n",
       "      <th>67</th>\n",
       "      <td>Afghanistan</td>\n",
       "      <td>2017</td>\n",
       "      <td>63.0160</td>\n",
       "    </tr>\n",
       "  </tbody>\n",
       "</table>\n",
       "</div>"
      ],
      "text/plain": [
       "         Entity  Year  Period life expectancy at birth - Sex: all - Age: 0\n",
       "63  Afghanistan  2013                                            62.4167  \n",
       "64  Afghanistan  2014                                            62.5451  \n",
       "65  Afghanistan  2015                                            62.6587  \n",
       "66  Afghanistan  2016                                            63.1361  \n",
       "67  Afghanistan  2017                                            63.0160  "
      ]
     },
     "execution_count": 47,
     "metadata": {},
     "output_type": "execute_result"
    }
   ],
   "source": [
    "# filter the life expectancy data for only years 2013 and beyond\n",
    "filtered_life_expectancy = life_expectancy.loc[life_expectancy['Year']>=2013]\n",
    "\n",
    "# drop code column as it is not needed\n",
    "filtered_life_expectancy = filtered_life_expectancy.drop(columns='Code')\n",
    "filtered_life_expectancy.head()"
   ]
  },
  {
   "cell_type": "code",
   "execution_count": 48,
   "id": "dfb0bc42-09c1-43e9-9430-a685b1cd75fb",
   "metadata": {},
   "outputs": [
    {
     "data": {
      "text/html": [
       "<div>\n",
       "<style scoped>\n",
       "    .dataframe tbody tr th:only-of-type {\n",
       "        vertical-align: middle;\n",
       "    }\n",
       "\n",
       "    .dataframe tbody tr th {\n",
       "        vertical-align: top;\n",
       "    }\n",
       "\n",
       "    .dataframe thead th {\n",
       "        text-align: right;\n",
       "    }\n",
       "</style>\n",
       "<table border=\"1\" class=\"dataframe\">\n",
       "  <thead>\n",
       "    <tr style=\"text-align: right;\">\n",
       "      <th></th>\n",
       "      <th>Country</th>\n",
       "      <th>Year</th>\n",
       "      <th>Index</th>\n",
       "      <th>Period life expectancy at birth - Sex: all - Age: 0</th>\n",
       "    </tr>\n",
       "  </thead>\n",
       "  <tbody>\n",
       "    <tr>\n",
       "      <th>0</th>\n",
       "      <td>Afghanistan</td>\n",
       "      <td>2013</td>\n",
       "      <td>4.040</td>\n",
       "      <td>62.4167</td>\n",
       "    </tr>\n",
       "    <tr>\n",
       "      <th>1</th>\n",
       "      <td>Afghanistan</td>\n",
       "      <td>2015</td>\n",
       "      <td>3.575</td>\n",
       "      <td>62.6587</td>\n",
       "    </tr>\n",
       "    <tr>\n",
       "      <th>2</th>\n",
       "      <td>Afghanistan</td>\n",
       "      <td>2016</td>\n",
       "      <td>3.360</td>\n",
       "      <td>63.1361</td>\n",
       "    </tr>\n",
       "    <tr>\n",
       "      <th>3</th>\n",
       "      <td>Afghanistan</td>\n",
       "      <td>2017</td>\n",
       "      <td>3.794</td>\n",
       "      <td>63.0160</td>\n",
       "    </tr>\n",
       "    <tr>\n",
       "      <th>4</th>\n",
       "      <td>Afghanistan</td>\n",
       "      <td>2018</td>\n",
       "      <td>3.632</td>\n",
       "      <td>63.0810</td>\n",
       "    </tr>\n",
       "  </tbody>\n",
       "</table>\n",
       "</div>"
      ],
      "text/plain": [
       "       Country  Year  Index  \\\n",
       "0  Afghanistan  2013  4.040   \n",
       "1  Afghanistan  2015  3.575   \n",
       "2  Afghanistan  2016  3.360   \n",
       "3  Afghanistan  2017  3.794   \n",
       "4  Afghanistan  2018  3.632   \n",
       "\n",
       "   Period life expectancy at birth - Sex: all - Age: 0  \n",
       "0                                            62.4167    \n",
       "1                                            62.6587    \n",
       "2                                            63.1361    \n",
       "3                                            63.0160    \n",
       "4                                            63.0810    "
      ]
     },
     "execution_count": 48,
     "metadata": {},
     "output_type": "execute_result"
    }
   ],
   "source": [
    "# merge both datasets\n",
    "merged_data = pd.merge(world_happiness, filtered_life_expectancy, left_on=['Country', 'Year'], right_on=['Entity','Year'])\n",
    "\n",
    "# drop entity column as we have country\n",
    "merged_data = merged_data.drop(columns='Entity')\n",
    "merged_data.head()"
   ]
  },
  {
   "cell_type": "markdown",
   "id": "163ff226-ff37-4420-8c51-2dbc770569dc",
   "metadata": {},
   "source": [
    "Convert the countries to continents for easier analysis. This code was done with assistance from this thread: https://stackoverflow.com/questions/55910004/get-continent-name-from-country-using-pycountry and ChatGPT\n",
    "\n",
    "Prompt for ChatGPT: \"How do I account for the Invalid Kosovo error\" \"How do I get rid of any unconverted values\""
   ]
  },
  {
   "cell_type": "code",
   "execution_count": 49,
   "id": "292c851f-3151-4d7e-bd00-8ad19b1ce35a",
   "metadata": {},
   "outputs": [
    {
     "data": {
      "text/html": [
       "<div>\n",
       "<style scoped>\n",
       "    .dataframe tbody tr th:only-of-type {\n",
       "        vertical-align: middle;\n",
       "    }\n",
       "\n",
       "    .dataframe tbody tr th {\n",
       "        vertical-align: top;\n",
       "    }\n",
       "\n",
       "    .dataframe thead th {\n",
       "        text-align: right;\n",
       "    }\n",
       "</style>\n",
       "<table border=\"1\" class=\"dataframe\">\n",
       "  <thead>\n",
       "    <tr style=\"text-align: right;\">\n",
       "      <th></th>\n",
       "      <th>Country</th>\n",
       "      <th>Year</th>\n",
       "      <th>Index</th>\n",
       "      <th>Period life expectancy at birth - Sex: all - Age: 0</th>\n",
       "      <th>Continent</th>\n",
       "    </tr>\n",
       "  </thead>\n",
       "  <tbody>\n",
       "    <tr>\n",
       "      <th>0</th>\n",
       "      <td>Afghanistan</td>\n",
       "      <td>2013</td>\n",
       "      <td>4.040</td>\n",
       "      <td>62.4167</td>\n",
       "      <td>Asia</td>\n",
       "    </tr>\n",
       "    <tr>\n",
       "      <th>1</th>\n",
       "      <td>Afghanistan</td>\n",
       "      <td>2015</td>\n",
       "      <td>3.575</td>\n",
       "      <td>62.6587</td>\n",
       "      <td>Asia</td>\n",
       "    </tr>\n",
       "    <tr>\n",
       "      <th>2</th>\n",
       "      <td>Afghanistan</td>\n",
       "      <td>2016</td>\n",
       "      <td>3.360</td>\n",
       "      <td>63.1361</td>\n",
       "      <td>Asia</td>\n",
       "    </tr>\n",
       "    <tr>\n",
       "      <th>3</th>\n",
       "      <td>Afghanistan</td>\n",
       "      <td>2017</td>\n",
       "      <td>3.794</td>\n",
       "      <td>63.0160</td>\n",
       "      <td>Asia</td>\n",
       "    </tr>\n",
       "    <tr>\n",
       "      <th>4</th>\n",
       "      <td>Afghanistan</td>\n",
       "      <td>2018</td>\n",
       "      <td>3.632</td>\n",
       "      <td>63.0810</td>\n",
       "      <td>Asia</td>\n",
       "    </tr>\n",
       "  </tbody>\n",
       "</table>\n",
       "</div>"
      ],
      "text/plain": [
       "       Country  Year  Index  \\\n",
       "0  Afghanistan  2013  4.040   \n",
       "1  Afghanistan  2015  3.575   \n",
       "2  Afghanistan  2016  3.360   \n",
       "3  Afghanistan  2017  3.794   \n",
       "4  Afghanistan  2018  3.632   \n",
       "\n",
       "   Period life expectancy at birth - Sex: all - Age: 0 Continent  \n",
       "0                                            62.4167        Asia  \n",
       "1                                            62.6587        Asia  \n",
       "2                                            63.1361        Asia  \n",
       "3                                            63.0160        Asia  \n",
       "4                                            63.0810        Asia  "
      ]
     },
     "execution_count": 49,
     "metadata": {},
     "output_type": "execute_result"
    }
   ],
   "source": [
    "# converts countries to their continent\n",
    "def country_to_continent(country):\n",
    "    if country == \"Kosovo\":\n",
    "        return \"Europe\"\n",
    "    country_code = pc.country_name_to_country_alpha2(country)\n",
    "    if country_code is not None:\n",
    "        continent_code = pc.country_alpha2_to_continent_code(country_code)\n",
    "        if continent_code is not None:\n",
    "            continent_name = pc.convert_continent_code_to_continent_name(continent_code)\n",
    "            return continent_name\n",
    "    else:\n",
    "        return None\n",
    "    \n",
    "# use this on merged dataset\n",
    "merged_data['Continent'] = merged_data['Country'].apply(country_to_continent)\n",
    "merged_data = merged_data[merged_data['Continent'] != \"Unknown\"]\n",
    "merged_data.head()"
   ]
  },
  {
   "cell_type": "code",
   "execution_count": 53,
   "id": "e7c772d0-bc3f-49c5-a9ba-ebdbafd5ab85",
   "metadata": {},
   "outputs": [],
   "source": [
    "# assertion tests\n",
    "assert country_to_continent(\"Germany\") == \"Europe\"\n",
    "assert country_to_continent(\"United States\") == \"North America\"\n",
    "assert country_to_continent(\"Kosovo\") == \"Europe\"\n",
    "assert country_to_continent(\"Brazil\") == \"South America\"\n",
    "assert country_to_continent(\"Australia\") == \"Oceania\"\n",
    "assert country_to_continent(\"Afghanistan\") == \"Asia\""
   ]
  },
  {
   "cell_type": "code",
   "execution_count": 54,
   "id": "eb933f6b-d7bb-4a73-91fb-56311372c980",
   "metadata": {},
   "outputs": [
    {
     "data": {
      "text/plain": [
       "Continent  Year\n",
       "Africa     2013    61.581927\n",
       "           2015    62.482523\n",
       "           2016    63.233467\n",
       "           2017    63.035141\n",
       "           2018    63.360751\n",
       "Name: Period life expectancy at birth - Sex: all - Age: 0, dtype: float64"
      ]
     },
     "execution_count": 54,
     "metadata": {},
     "output_type": "execute_result"
    }
   ],
   "source": [
    "# average all ages for a year for a continent\n",
    "merged_data = merged_data.drop(columns='Country')\n",
    "avg_life_exp = merged_data.groupby(['Continent', 'Year'])['Period life expectancy at birth - Sex: all - Age: 0'].mean()\n",
    "avg_life_exp.head()"
   ]
  },
  {
   "cell_type": "code",
   "execution_count": null,
   "id": "77fca225-c479-4a70-abd6-fad226b917f6",
   "metadata": {},
   "outputs": [],
   "source": [
    "# average all happiness indexes for a year for a continent\n",
    "avg_happiness = merged_data.groupby(['Continent', 'Year'])['Index'].mean()\n",
    "avg_happiness.head()"
   ]
  },
  {
   "cell_type": "code",
   "execution_count": null,
   "id": "de61d7ee-f814-4d6c-a6dc-11aa0e6b09ba",
   "metadata": {},
   "outputs": [],
   "source": [
    "# merge two averaged datasets on continent and year\n",
    "new_merged_data = pd.merge(avg_life_exp, avg_happiness, on=['Continent', 'Year'])\n",
    "\n",
    "# reset index for proper formatting\n",
    "new_merged_data = new_merged_data.reset_index()\n",
    "#new_merged_data.to_csv('happiness_vs_life_expectancy.csv')\n"
   ]
  },
  {
   "cell_type": "code",
   "execution_count": null,
   "id": "be394602-3015-4638-897c-0deee20e39b3",
   "metadata": {},
   "outputs": [],
   "source": [
    "# create visualization plotting year with life expectancy for all continents with plot.ly\n",
    "fig_life = px.line(new_merged_data, x = 'Year' ,\n",
    "              y = 'Period life expectancy at birth - Sex: all - Age: 0',\n",
    "              color = 'Continent',\n",
    "              title = 'Life Expectancy Trends for Each Continent from 2013 - 2021')\n",
    "\n",
    "# show plot by writing it to html\n",
    "fig_life.write_html('life_plot.html')"
   ]
  },
  {
   "cell_type": "code",
   "execution_count": null,
   "id": "d4bf55c2-a31d-4b7b-bb2b-dfe1f411d893",
   "metadata": {},
   "outputs": [],
   "source": [
    "# plot year with happiness index for all continents\n",
    "fig_life2 = px.line(new_merged_data, x = 'Year' ,\n",
    "              y = 'Index',\n",
    "              color = 'Continent',\n",
    "              title = 'World Happiness Index Trends for Each Continent from 2013 - 2021')\n",
    "\n",
    "fig_life2.write_html('life_plot2.html')"
   ]
  },
  {
   "cell_type": "code",
   "execution_count": null,
   "id": "1101218f-3917-4475-8fa0-ce82d341c019",
   "metadata": {},
   "outputs": [],
   "source": [
    "# statistical analysis - pearson correlation coefficient for all continents\n",
    "\n",
    "# africa\n",
    "# filter new_merged_data with only rows where Continent is Africa\n",
    "africa_life = new_merged_data[new_merged_data['Continent']=='Africa']\n",
    "\n",
    "# drop columns Continent and Year for calculating pearson correlation coefficient and rename table\n",
    "africa_corr = africa_life.drop(columns=['Continent','Year'])\n",
    "africa_corr.corr(method='pearson')"
   ]
  },
  {
   "cell_type": "code",
   "execution_count": null,
   "id": "bcfd726c-6775-4a23-aa7b-dddd32096d74",
   "metadata": {},
   "outputs": [],
   "source": [
    "# asia\n",
    "asia_life = new_merged_data[new_merged_data['Continent']=='Asia']\n",
    "asia_corr = asia_life.drop(columns=['Continent','Year'])\n",
    "asia_corr.corr(method='pearson')"
   ]
  },
  {
   "cell_type": "code",
   "execution_count": null,
   "id": "6dcb1f74-03ef-4732-b8c9-3ee02a004301",
   "metadata": {},
   "outputs": [],
   "source": [
    "# europe\n",
    "europe_life = new_merged_data[new_merged_data['Continent']=='Europe']\n",
    "europe_corr = europe_life.drop(columns=['Continent','Year'])\n",
    "europe_corr.corr(method='pearson')"
   ]
  },
  {
   "cell_type": "code",
   "execution_count": null,
   "id": "208b629a-03eb-4f45-af40-aaadd5fe2340",
   "metadata": {},
   "outputs": [],
   "source": [
    "# north america\n",
    "north_life = new_merged_data[new_merged_data['Continent']=='North America']\n",
    "north_corr = north_life.drop(columns=['Continent','Year'])\n",
    "north_corr.corr(method='pearson')"
   ]
  },
  {
   "cell_type": "code",
   "execution_count": null,
   "id": "5a0c2eb8-c130-4258-ba28-ea45dfd49c51",
   "metadata": {},
   "outputs": [],
   "source": [
    "# oceania\n",
    "oceania_life = new_merged_data[new_merged_data['Continent']=='Oceania']\n",
    "oceania_corr = oceania_life.drop(columns=['Continent','Year'])\n",
    "oceania_corr.corr(method='pearson')"
   ]
  },
  {
   "cell_type": "code",
   "execution_count": null,
   "id": "1368a9ae-d173-4915-b55b-c582c6c4c56d",
   "metadata": {},
   "outputs": [],
   "source": [
    "# south america\n",
    "south_life = new_merged_data[new_merged_data['Continent']=='South America']\n",
    "south_corr = south_life.drop(columns=['Continent','Year'])\n",
    "south_corr.corr(method='pearson')"
   ]
  },
  {
   "cell_type": "code",
   "execution_count": null,
   "id": "7cf98c1e-ae34-426a-b97e-b59ae3bc1f63",
   "metadata": {},
   "outputs": [],
   "source": [
    "# plot one data set more closely to see pearson correlation coefficient\n",
    "# this is life expectancy trends for the continent of africa\n",
    "fig_africa_life = px.line(africa_life, x = 'Year' ,\n",
    "              y = 'Period life expectancy at birth - Sex: all - Age: 0',\n",
    "              color = 'Continent',\n",
    "              title = 'Life Expectancy Trends for Africa from 2013 - 2021')\n",
    "\n",
    "fig_africa_life.write_html('africa_life_plot.html')"
   ]
  },
  {
   "cell_type": "code",
   "execution_count": null,
   "id": "04f46d17-ef09-45fe-8c30-df20e7f304c7",
   "metadata": {},
   "outputs": [],
   "source": [
    "# plot one data set more closely to see pearson correlation coefficient\n",
    "# this is world happiness index trends for the continent of africa\n",
    "fig_africa_life2 = px.line(africa_life, x = 'Year' ,\n",
    "              y = 'Index',\n",
    "              color = 'Continent',\n",
    "              title = 'World Happiness Index Trends for Africa from 2013 - 2021')\n",
    "\n",
    "fig_africa_life2.write_html('africa_life_plot2.html')"
   ]
  }
 ],
 "metadata": {
  "kernelspec": {
   "display_name": "Python 3 (ipykernel)",
   "language": "python",
   "name": "python3"
  },
  "language_info": {
   "codemirror_mode": {
    "name": "ipython",
    "version": 3
   },
   "file_extension": ".py",
   "mimetype": "text/x-python",
   "name": "python",
   "nbconvert_exporter": "python",
   "pygments_lexer": "ipython3",
   "version": "3.10.13"
  }
 },
 "nbformat": 4,
 "nbformat_minor": 5
}
