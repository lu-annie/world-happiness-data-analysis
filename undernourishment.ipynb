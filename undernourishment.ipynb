{
 "cells": [
  {
   "cell_type": "markdown",
   "id": "8e381188-1c9c-412e-aa03-0a019511246d",
   "metadata": {},
   "source": [
    "# Undernourishment & Happiness Index Analysis\n",
    "In this section we are going to analyze prevalence of undernourishment and happiness index and look for correlations between them. An importatn question we want to solve is whether the change of prevalence of undernourishment has any effect on the happiness index for each country."
   ]
  },
  {
   "cell_type": "code",
   "execution_count": 49,
   "id": "39066fba-d144-4515-ac13-a4496ed7f523",
   "metadata": {},
   "outputs": [],
   "source": [
    "import pandas as pd\n",
    "import matplotlib.pyplot as plt\n",
    "from scipy.stats import pearsonr\n",
    "import plotly.express as px"
   ]
  },
  {
   "cell_type": "code",
   "execution_count": 2,
   "id": "6d9cfc79-169e-46a9-b964-53a00e89619a",
   "metadata": {},
   "outputs": [],
   "source": [
    "# Read Dataset\n",
    "nourish_data = pd.read_csv(\"prevalence-of-undernourishment.csv\")\n",
    "happiness_data = pd.read_csv(\"World Happiness Index by Reports 2013-2023 no nulls.csv\")"
   ]
  },
  {
   "cell_type": "markdown",
   "id": "008f3d44-b651-4ee9-8dac-d0234329722d",
   "metadata": {},
   "source": [
    "### Data Cleanning\n",
    "Since the time spans of the two datasets do not completely overlap and the country lists of the datasets are inconsistent, we need to clean up these two datasets and combine them together."
   ]
  },
  {
   "cell_type": "code",
   "execution_count": 126,
   "id": "a34d71f2-d69d-44d2-bed3-67b1c9bdd6e3",
   "metadata": {},
   "outputs": [],
   "source": [
    "# Rename the column name of undernourishment dataset from \"Entity\" to \"Country\"\n",
    "nourish_data.rename(columns = {\"Entity\" : \"Country\"}, inplace=True)\n",
    "# Use how=\"inner\" to get the intersection of keys from both frames.\n",
    "cleaned_df = happiness_data.merge(nourish_data, how=\"inner\", on=[\"Country\", \"Year\"])\n",
    "cleaned_df.to_csv(\"cleaned_df.csv\", index=False)\n",
    "\n",
    "\n",
    "\n",
    "assert len(cleaned_df.columns) == 6\n",
    "assert cleaned_df.loc[(cleaned_df[\"Country\"] == \"Chad\") & \n",
    "(cleaned_df[\"Year\"] == 2016), \"Prevalence of undernourishment (% of population)\"].values[0] == 28.5\n",
    "assert cleaned_df.loc[(cleaned_df[\"Country\"] == \"France\") & \n",
    "(cleaned_df[\"Year\"] == 2020), \"Index\"].values[0] == 6.664"
   ]
  },
  {
   "cell_type": "markdown",
   "id": "32b9ef64-23f7-4d48-b84a-9bc0fdf74566",
   "metadata": {},
   "source": [
    "### Analyze top ranked and low ranked countries\n",
    "Let's start by finding the countries that has the highest happiness index and their prevalence of undernourishment."
   ]
  },
  {
   "cell_type": "code",
   "execution_count": 105,
   "id": "20ecfa2f-4f68-4bf8-adac-80a0199f94d4",
   "metadata": {},
   "outputs": [],
   "source": [
    "def find_toprank(year, above_rank):\n",
    "    \"\"\"\n",
    "    This function takes year and above_rank as input,\n",
    "    and it should return a list of ranked countries in\n",
    "    that given year.\n",
    "    \"\"\"\n",
    "    happy_year = cleaned_df[cleaned_df[\"Year\"] == year]\n",
    "    countries_list = list(happy_year.loc[(cleaned_df[\"Rank\"] < above_rank) , \"Country\"])\n",
    "    return countries_list\n",
    "\n",
    "\n",
    "assert find_toprank(2013, 2) == [\"Denmark\"]\n",
    "assert find_toprank(2012, 2) == []"
   ]
  },
  {
   "cell_type": "code",
   "execution_count": 115,
   "id": "28642d94-2719-4364-8f30-ea94ad8a025c",
   "metadata": {},
   "outputs": [],
   "source": [
    "def find_lowrank(year, below_rank):\n",
    "    \"\"\"\n",
    "    This function takes year and above_rank as input,\n",
    "    and it should return a list of ranked countries in\n",
    "    that given year.\n",
    "    \"\"\"\n",
    "    happy_year = cleaned_df[cleaned_df[\"Year\"] == year]\n",
    "    countries_list = list(happy_year.loc[(cleaned_df[\"Rank\"] > below_rank) , \"Country\"])\n",
    "    return countries_list\n",
    "\n",
    "\n",
    "assert find_lowrank(2013, 155) == [\"Togo\"]\n",
    "assert find_lowrank(2015, 180) == []"
   ]
  },
  {
   "cell_type": "code",
   "execution_count": 6,
   "id": "dede356c-9ea0-4d9f-80d7-ca05d1c76a3a",
   "metadata": {},
   "outputs": [
    {
     "data": {
      "text/plain": [
       "['Denmark', 'Finland', 'Iceland', 'Norway', 'Switzerland']"
      ]
     },
     "execution_count": 6,
     "metadata": {},
     "output_type": "execute_result"
    }
   ],
   "source": [
    "high_ranked = find_toprank(2020, 6)\n",
    "high_ranked"
   ]
  },
  {
   "cell_type": "markdown",
   "id": "c2649bb0-16d9-4834-980d-15b09781cfd2",
   "metadata": {},
   "source": [
    "By using our functions, we found that the top 5 countries that has the highest happiness index in 2020 are Denmark, Finland, Iceland, Norway and Netherlands. Now let us look at their prevalence of undernourishment in 2020."
   ]
  },
  {
   "cell_type": "code",
   "execution_count": 7,
   "id": "d769e382-495a-42e2-ae30-f1e873090231",
   "metadata": {},
   "outputs": [
    {
     "name": "stdout",
     "output_type": "stream",
     "text": [
      "     Country  Year  Index  Rank Code  \\\n",
      "223  Denmark  2020  7.646     2  DNK   \n",
      "\n",
      "     Prevalence of undernourishment (% of population)  \n",
      "223                                               2.5  \n",
      "     Country  Year  Index  Rank Code  \\\n",
      "274  Finland  2020  7.809     1  FIN   \n",
      "\n",
      "     Prevalence of undernourishment (% of population)  \n",
      "274                                               2.5  \n",
      "     Country  Year  Index  Rank Code  \\\n",
      "360  Iceland  2020  7.504     4  ISL   \n",
      "\n",
      "     Prevalence of undernourishment (% of population)  \n",
      "360                                               2.5  \n",
      "    Country  Year  Index  Rank Code  \\\n",
      "649  Norway  2020  7.488     5  NOR   \n",
      "\n",
      "     Prevalence of undernourishment (% of population)  \n",
      "649                                               2.5  \n",
      "         Country  Year  Index  Rank Code  \\\n",
      "817  Switzerland  2020   7.56     3  CHE   \n",
      "\n",
      "     Prevalence of undernourishment (% of population)  \n",
      "817                                               2.5  \n"
     ]
    }
   ],
   "source": [
    "for top_country in high_ranked:\n",
    "    print(cleaned_df.loc[(cleaned_df[\"Country\"] == top_country) & (cleaned_df[\"Year\"] == 2020)])"
   ]
  },
  {
   "cell_type": "markdown",
   "id": "dcc87821-4fe0-4937-b7ce-91b2a763e354",
   "metadata": {},
   "source": [
    "We can see that the prevalence of undernourishment in top 5 happiness index countries are all below or equal to 2.5% of their population. What about the low ranked countries?"
   ]
  },
  {
   "cell_type": "code",
   "execution_count": 127,
   "id": "0dbf0462-cbd9-4121-9ac1-035f089ed3a0",
   "metadata": {},
   "outputs": [
    {
     "data": {
      "text/plain": [
       "['Afghanistan', 'Botswana', 'Central African Republic', 'Rwanda', 'Tanzania']"
      ]
     },
     "execution_count": 127,
     "metadata": {},
     "output_type": "execute_result"
    }
   ],
   "source": [
    "low_ranked = find_lowrank(2020, 146)\n",
    "low_ranked"
   ]
  },
  {
   "cell_type": "code",
   "execution_count": 128,
   "id": "7693f9df-251b-4ade-aeee-adb8ee67b806",
   "metadata": {},
   "outputs": [
    {
     "name": "stdout",
     "output_type": "stream",
     "text": [
      "       Country  Year  Index  Rank Code  \\\n",
      "6  Afghanistan  2020  2.567   153  AFG   \n",
      "\n",
      "   Prevalence of undernourishment (% of population)  \n",
      "6                                              29.8  \n",
      "      Country  Year  Index  Rank Code  \\\n",
      "112  Botswana  2020  3.479   147  BWA   \n",
      "\n",
      "     Prevalence of undernourishment (% of population)  \n",
      "112                                              21.9  \n",
      "                      Country  Year  Index  Rank Code  \\\n",
      "160  Central African Republic  2020  3.476   149  CAF   \n",
      "\n",
      "     Prevalence of undernourishment (% of population)  \n",
      "160                                              52.2  \n",
      "    Country  Year  Index  Rank Code  \\\n",
      "721  Rwanda  2020  3.312   150  RWA   \n",
      "\n",
      "     Prevalence of undernourishment (% of population)  \n",
      "721                                              35.8  \n",
      "      Country  Year  Index  Rank Code  \\\n",
      "824  Tanzania  2020  3.476   148  TZA   \n",
      "\n",
      "     Prevalence of undernourishment (% of population)  \n",
      "824                                              22.6  \n"
     ]
    }
   ],
   "source": [
    "for low_country in low_ranked:\n",
    "    print(cleaned_df.loc[(cleaned_df[\"Country\"] == low_country) & (cleaned_df[\"Year\"] == 2020)])"
   ]
  },
  {
   "cell_type": "markdown",
   "id": "eaa2d564-02b9-48d1-9850-92b03aef4078",
   "metadata": {},
   "source": [
    "For the low ranked happiness index countries, their prevalence of undernourishment are much higher than high ranked countries. All of their prevalence of undernourishment are above 20% of their population."
   ]
  },
  {
   "cell_type": "markdown",
   "id": "a42cf83d-2dbf-4d53-9ae7-590b73a00441",
   "metadata": {},
   "source": [
    "### Data Visualization"
   ]
  },
  {
   "cell_type": "markdown",
   "id": "e7ee8153-f7f2-4df3-9c56-d9a47e936f3e",
   "metadata": {},
   "source": [
    "Now let's take a look at the changes in happiness index and prevalence of undernourishement between 2013-2020 for Afghanistan."
   ]
  },
  {
   "cell_type": "code",
   "execution_count": 10,
   "id": "29689054-7bcf-4fda-a9f8-0dd8d6e8a9f5",
   "metadata": {},
   "outputs": [
    {
     "data": {
      "image/png": "[encoded data removed]",
      "text/plain": [
       "<Figure size 1000x500 with 2 Axes>"
      ]
     },
     "metadata": {},
     "output_type": "display_data"
    }
   ],
   "source": [
    "fig, ax = plt.subplots(nrows=1, ncols=2, figsize=(10, 5))\n",
    "ax[0].plot(cleaned_df.loc[cleaned_df[\"Country\"] == \"Afghanistan\"][\"Year\"], \n",
    "              cleaned_df.loc[cleaned_df[\"Country\"] == \"Afghanistan\"][\"Index\"], color=\"red\")\n",
    "ax[0].set(title=\"Afghanistan Happiness Index\", xlabel=\"Year\", ylabel=\"Index\")\n",
    "ax[1].plot(cleaned_df.loc[cleaned_df[\"Country\"] == \"Afghanistan\"][\"Year\"], \n",
    "              cleaned_df.loc[cleaned_df[\"Country\"] == \"Afghanistan\"][\"Prevalence of undernourishment (% of population)\"], color=\"blue\")\n",
    "ax[1].set(title=\"Afghanistan Prevalence of Undernourishment\", xlabel=\"Year\", ylabel=\"Percent of Population\")\n",
    "fig.tight_layout()"
   ]
  },
  {
   "cell_type": "markdown",
   "id": "5de7e360-eaea-4792-adce-457063442b6c",
   "metadata": {},
   "source": [
    "By looking at the subplots we can clearly see that although the happiness index increased in 2016 to 2017, but the Afghanistan Happiness Index plot shows a downward tend overall. The prevalence of undernourishment plot shows an upward trend, by comparing these two subplots, we can speculate that the rise in prevalence of undernourishment may lead to a decline in happiness index."
   ]
  },
  {
   "cell_type": "markdown",
   "id": "7e42a2a1-330a-4954-afbd-44bfb5594245",
   "metadata": {},
   "source": [
    "### Pearson Correlation Coefficient\n",
    "Pearson correlation coefficient can used to determine the correlation between two variables, we plan to use pearson correlation coefficient to find the correlation between prevalence of undernourishement and happiness index."
   ]
  },
  {
   "cell_type": "code",
   "execution_count": 125,
   "id": "67774c22-d546-4a32-9372-3fc25facab24",
   "metadata": {},
   "outputs": [
    {
     "name": "stdout",
     "output_type": "stream",
     "text": [
      "Correlation Coefficient: -0.577848217141081\n"
     ]
    }
   ],
   "source": [
    "x = cleaned_df[\"Prevalence of undernourishment (% of population)\"]\n",
    "y = cleaned_df[\"Index\"]\n",
    "corr_coef, p_value = pearsonr(x, y)\n",
    "print(\"Correlation Coefficient:\",corr_coef)"
   ]
  },
  {
   "cell_type": "markdown",
   "id": "240dfd7d-124c-4f96-8a29-2acee84cea20",
   "metadata": {},
   "source": [
    "From our dataset, we found that the pearson correlation coefficient is around -0.58, this means that, to a moderate extent, an increase in one variable leads to a decrease in another. This should confirm our previous speculation about the relationship between prevalence of undernourishement and happiness index. But we know that there are many factors behind each country's happiness index, we started thinking about how each country's pearson correlation coefficient differs."
   ]
  },
  {
   "cell_type": "code",
   "execution_count": 123,
   "id": "7cae94d1-d181-4e3b-9d7f-fbe53451979a",
   "metadata": {},
   "outputs": [],
   "source": [
    "def find_coefficient(country):\n",
    "    \"\"\"\n",
    "    This function takes country as input and it should return the pearson correlation coeffcient of that country.\n",
    "    \"\"\"\n",
    "    x = cleaned_df.loc[cleaned_df[\"Country\"] == country, \"Prevalence of undernourishment (% of population)\"]\n",
    "    y = cleaned_df.loc[cleaned_df[\"Country\"] == country, \"Index\"]\n",
    "    corr_coef, p_value = pearsonr(x, y)\n",
    "    return corr_coef"
   ]
  },
  {
   "cell_type": "code",
   "execution_count": 124,
   "id": "034408ae-2f67-4493-b0f4-46ff14a95dae",
   "metadata": {},
   "outputs": [
    {
     "name": "stderr",
     "output_type": "stream",
     "text": [
      "/opt/conda/lib/python3.10/site-packages/scipy/stats/_stats_py.py:4781: ConstantInputWarning:\n",
      "\n",
      "An input array is constant; the correlation coefficient is not defined.\n",
      "\n"
     ]
    }
   ],
   "source": [
    "# Get all the country name\n",
    "country_list = []\n",
    "for country in cleaned_df[\"Country\"]:\n",
    "    if country not in country_list:\n",
    "        country_list.append(country)\n",
    "# Create a new dataframe for coefficients, in order to be able to find correlations \n",
    "# where prevalence of undernourishement has negative effect on happiness index, we \n",
    "# only select cases where the pearson correlation coefficient is negative.\n",
    "coefficient_data = []\n",
    "for countries in country_list:\n",
    "    if find_coefficient(countries) < 0:\n",
    "        coefficient_data.append([countries, find_coefficient(countries)])\n",
    "coefficient_df = pd.DataFrame(coefficient_data, columns=[\"Country\", \"Coefficient\"]).sort_values(\"Coefficient\")\n",
    "\n",
    "\n",
    "assert len(country_list) == 137"
   ]
  },
  {
   "cell_type": "code",
   "execution_count": 122,
   "id": "0c800bee-7685-40e0-85de-57d66a44aaa3",
   "metadata": {},
   "outputs": [
    {
     "data": {
      "text/html": [
       "<iframe\n",
       "    scrolling=\"no\"\n",
       "    width=\"1020px\"\n",
       "    height=\"970\"\n",
       "    src=\"iframe_figures/figure_122.html\"\n",
       "    frameborder=\"0\"\n",
       "    allowfullscreen\n",
       "></iframe>\n"
      ]
     },
     "metadata": {},
     "output_type": "display_data"
    }
   ],
   "source": [
    "fig = px.bar(coefficient_df, x=\"Coefficient\", y=\"Country\", color=\"Country\",\n",
    "             title=\"Pearson Correlation Coefficient for countries with negative correlations\",\n",
    "             width=1000, height=950)\n",
    "fig.update_layout(xaxis=dict(autorange=\"reversed\"))\n",
    "fig.show(renderer='iframe')"
   ]
  },
  {
   "cell_type": "markdown",
   "id": "3a4bff32-2103-466c-89b1-1ea66c08991f",
   "metadata": {},
   "source": [
    "### Result\n",
    "In general, through the analysis of the two datasets, we can deduce that prevalence of undernourishement and happiness have a negative correlation, and the increase of prevalence of undernourishement can lead to the decrease of happiness index to a certain extent. There are many factors contributing to the change in happiness index, and the correlation between the two variables varies in each country. But through our analysis, we can see that in Venezuela, Guatemala and other countries, their pearson correlation coefficient is very close to -1, which means that the change of prevalence of undernourishement has a strong relationship with the change of happiness index in these countries. We believe that our analysis can help the governments of these countries and relevant organizations to make improvements in prevalence of undernourishement to improve their happiness index."
   ]
  }
 ],
 "metadata": {
  "kernelspec": {
   "display_name": "Python 3 (ipykernel)",
   "language": "python",
   "name": "python3"
  },
  "language_info": {
   "codemirror_mode": {
    "name": "ipython",
    "version": 3
   },
   "file_extension": ".py",
   "mimetype": "text/x-python",
   "name": "python",
   "nbconvert_exporter": "python",
   "pygments_lexer": "ipython3",
   "version": "3.10.13"
  }
 },
 "nbformat": 4,
 "nbformat_minor": 5
}
