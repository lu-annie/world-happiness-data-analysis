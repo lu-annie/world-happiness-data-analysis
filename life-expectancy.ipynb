{
 "cells": [
  {
   "cell_type": "markdown",
   "id": "614fdcf1-45a1-46b2-a452-cd21a4b29ed8",
   "metadata": {},
   "source": [
    "# Part 2: Life Expectancy vs World Happiness Level"
   ]
  },
  {
   "cell_type": "markdown",
   "id": "bd2701f5-20ab-4123-ad3e-446f7cbb1990",
   "metadata": {},
   "source": [
    "## Load in Data\n",
    "For this section of the project, we will be comparing the world life expectancy rates for all 7 continents to the world happiness levels to see if they correlate. Let's begin by loading the csv files."
   ]
  },
  {
   "cell_type": "code",
   "execution_count": 32,
   "id": "a1ffc5aa-9543-4e21-be12-514796b8563e",
   "metadata": {},
   "outputs": [
    {
     "name": "stdout",
     "output_type": "stream",
     "text": [
      "Requirement already satisfied: pandas in /opt/conda/lib/python3.10/site-packages (2.1.4)\n",
      "Requirement already satisfied: numpy<2,>=1.22.4 in /opt/conda/lib/python3.10/site-packages (from pandas) (1.26.3)\n",
      "Requirement already satisfied: python-dateutil>=2.8.2 in /opt/conda/lib/python3.10/site-packages (from pandas) (2.8.2)\n",
      "Requirement already satisfied: pytz>=2020.1 in /opt/conda/lib/python3.10/site-packages (from pandas) (2023.3.post1)\n",
      "Requirement already satisfied: tzdata>=2022.1 in /opt/conda/lib/python3.10/site-packages (from pandas) (2023.4)\n",
      "Requirement already satisfied: six>=1.5 in /opt/conda/lib/python3.10/site-packages (from python-dateutil>=2.8.2->pandas) (1.16.0)\n",
      "Requirement already satisfied: plotly in /opt/conda/lib/python3.10/site-packages (5.19.0)\n",
      "Requirement already satisfied: tenacity>=6.2.0 in /opt/conda/lib/python3.10/site-packages (from plotly) (8.2.3)\n",
      "Requirement already satisfied: packaging in /opt/conda/lib/python3.10/site-packages (from plotly) (23.2)\n",
      "Requirement already satisfied: pycountry-convert in /opt/conda/lib/python3.10/site-packages (0.7.2)\n",
      "Requirement already satisfied: pprintpp>=0.3.0 in /opt/conda/lib/python3.10/site-packages (from pycountry-convert) (0.4.0)\n",
      "Requirement already satisfied: pycountry>=16.11.27.1 in /opt/conda/lib/python3.10/site-packages (from pycountry-convert) (23.12.11)\n",
      "Requirement already satisfied: pytest>=3.4.0 in /opt/conda/lib/python3.10/site-packages (from pycountry-convert) (8.1.1)\n",
      "Requirement already satisfied: pytest-mock>=1.6.3 in /opt/conda/lib/python3.10/site-packages (from pycountry-convert) (3.12.0)\n",
      "Requirement already satisfied: pytest-cov>=2.5.1 in /opt/conda/lib/python3.10/site-packages (from pycountry-convert) (4.1.0)\n",
      "Requirement already satisfied: repoze.lru>=0.7 in /opt/conda/lib/python3.10/site-packages (from pycountry-convert) (0.7)\n",
      "Requirement already satisfied: wheel>=0.30.0 in /opt/conda/lib/python3.10/site-packages (from pycountry-convert) (0.42.0)\n",
      "Requirement already satisfied: iniconfig in /opt/conda/lib/python3.10/site-packages (from pytest>=3.4.0->pycountry-convert) (2.0.0)\n",
      "Requirement already satisfied: packaging in /opt/conda/lib/python3.10/site-packages (from pytest>=3.4.0->pycountry-convert) (23.2)\n",
      "Requirement already satisfied: pluggy<2.0,>=1.4 in /opt/conda/lib/python3.10/site-packages (from pytest>=3.4.0->pycountry-convert) (1.4.0)\n",
      "Requirement already satisfied: exceptiongroup>=1.0.0rc8 in /opt/conda/lib/python3.10/site-packages (from pytest>=3.4.0->pycountry-convert) (1.2.0)\n",
      "Requirement already satisfied: tomli>=1 in /opt/conda/lib/python3.10/site-packages (from pytest>=3.4.0->pycountry-convert) (2.0.1)\n",
      "Requirement already satisfied: coverage>=5.2.1 in /opt/conda/lib/python3.10/site-packages (from coverage[toml]>=5.2.1->pytest-cov>=2.5.1->pycountry-convert) (7.4.3)\n"
     ]
    }
   ],
   "source": [
    "!pip install pandas\n",
    "!pip install plotly\n",
    "!pip install -q folium mapclassify\n",
    "!pip install pycountry-convert\n",
    "%matplotlib inline\n",
    "\n",
    "import geopandas as gpd\n",
    "import pandas as pd\n",
    "import plotly.express as px\n",
    "import plotly.graph_objects as go\n",
    "import pycountry_convert as pc\n",
    "\n",
    "# read csvs for world happiness and life expectancy\n",
    "world_happiness = pd.read_csv(\"world_happiness.csv\")\n",
    "life_expectancy = pd.read_csv(\"life_expectancy.csv\")"
   ]
  },
  {
   "cell_type": "markdown",
   "id": "fec26c69-e7b4-47c1-b91e-0543489ae273",
   "metadata": {},
   "source": [
    "Great! Now let's display the world happiness and life expectancy datasets to see what we need to fix."
   ]
  },
  {
   "cell_type": "code",
   "execution_count": 33,
   "id": "1939deb5-06fd-4cae-b16e-10942bcacd65",
   "metadata": {},
   "outputs": [
    {
     "data": {
      "text/html": [
       "<div>\n",
       "<style scoped>\n",
       "    .dataframe tbody tr th:only-of-type {\n",
       "        vertical-align: middle;\n",
       "    }\n",
       "\n",
       "    .dataframe tbody tr th {\n",
       "        vertical-align: top;\n",
       "    }\n",
       "\n",
       "    .dataframe thead th {\n",
       "        text-align: right;\n",
       "    }\n",
       "</style>\n",
       "<table border=\"1\" class=\"dataframe\">\n",
       "  <thead>\n",
       "    <tr style=\"text-align: right;\">\n",
       "      <th></th>\n",
       "      <th>Country</th>\n",
       "      <th>Year</th>\n",
       "      <th>Index</th>\n",
       "    </tr>\n",
       "  </thead>\n",
       "  <tbody>\n",
       "    <tr>\n",
       "      <th>0</th>\n",
       "      <td>Afghanistan</td>\n",
       "      <td>2013</td>\n",
       "      <td>4.040</td>\n",
       "    </tr>\n",
       "    <tr>\n",
       "      <th>1</th>\n",
       "      <td>Afghanistan</td>\n",
       "      <td>2015</td>\n",
       "      <td>3.575</td>\n",
       "    </tr>\n",
       "    <tr>\n",
       "      <th>2</th>\n",
       "      <td>Afghanistan</td>\n",
       "      <td>2016</td>\n",
       "      <td>3.360</td>\n",
       "    </tr>\n",
       "    <tr>\n",
       "      <th>3</th>\n",
       "      <td>Afghanistan</td>\n",
       "      <td>2017</td>\n",
       "      <td>3.794</td>\n",
       "    </tr>\n",
       "    <tr>\n",
       "      <th>4</th>\n",
       "      <td>Afghanistan</td>\n",
       "      <td>2018</td>\n",
       "      <td>3.632</td>\n",
       "    </tr>\n",
       "  </tbody>\n",
       "</table>\n",
       "</div>"
      ],
      "text/plain": [
       "       Country  Year  Index\n",
       "0  Afghanistan  2013  4.040\n",
       "1  Afghanistan  2015  3.575\n",
       "2  Afghanistan  2016  3.360\n",
       "3  Afghanistan  2017  3.794\n",
       "4  Afghanistan  2018  3.632"
      ]
     },
     "execution_count": 33,
     "metadata": {},
     "output_type": "execute_result"
    }
   ],
   "source": [
    "# drop the Rank column as it is not needed for analysis\n",
    "world_happiness = world_happiness.drop(columns='Rank')\n",
    "\n",
    "# show dataframe\n",
    "world_happiness.head()"
   ]
  },
  {
   "cell_type": "code",
   "execution_count": 34,
   "id": "57bcd873-7025-4d01-a765-dbf77ba7f3dd",
   "metadata": {},
   "outputs": [
    {
     "data": {
      "text/html": [
       "<div>\n",
       "<style scoped>\n",
       "    .dataframe tbody tr th:only-of-type {\n",
       "        vertical-align: middle;\n",
       "    }\n",
       "\n",
       "    .dataframe tbody tr th {\n",
       "        vertical-align: top;\n",
       "    }\n",
       "\n",
       "    .dataframe thead th {\n",
       "        text-align: right;\n",
       "    }\n",
       "</style>\n",
       "<table border=\"1\" class=\"dataframe\">\n",
       "  <thead>\n",
       "    <tr style=\"text-align: right;\">\n",
       "      <th></th>\n",
       "      <th>Entity</th>\n",
       "      <th>Code</th>\n",
       "      <th>Year</th>\n",
       "      <th>Period life expectancy at birth - Sex: all - Age: 0</th>\n",
       "    </tr>\n",
       "  </thead>\n",
       "  <tbody>\n",
       "    <tr>\n",
       "      <th>0</th>\n",
       "      <td>Afghanistan</td>\n",
       "      <td>AFG</td>\n",
       "      <td>1950</td>\n",
       "      <td>27.7275</td>\n",
       "    </tr>\n",
       "    <tr>\n",
       "      <th>1</th>\n",
       "      <td>Afghanistan</td>\n",
       "      <td>AFG</td>\n",
       "      <td>1951</td>\n",
       "      <td>27.9634</td>\n",
       "    </tr>\n",
       "    <tr>\n",
       "      <th>2</th>\n",
       "      <td>Afghanistan</td>\n",
       "      <td>AFG</td>\n",
       "      <td>1952</td>\n",
       "      <td>28.4456</td>\n",
       "    </tr>\n",
       "    <tr>\n",
       "      <th>3</th>\n",
       "      <td>Afghanistan</td>\n",
       "      <td>AFG</td>\n",
       "      <td>1953</td>\n",
       "      <td>28.9304</td>\n",
       "    </tr>\n",
       "    <tr>\n",
       "      <th>4</th>\n",
       "      <td>Afghanistan</td>\n",
       "      <td>AFG</td>\n",
       "      <td>1954</td>\n",
       "      <td>29.2258</td>\n",
       "    </tr>\n",
       "  </tbody>\n",
       "</table>\n",
       "</div>"
      ],
      "text/plain": [
       "        Entity Code  Year  Period life expectancy at birth - Sex: all - Age: 0\n",
       "0  Afghanistan  AFG  1950                                            27.7275  \n",
       "1  Afghanistan  AFG  1951                                            27.9634  \n",
       "2  Afghanistan  AFG  1952                                            28.4456  \n",
       "3  Afghanistan  AFG  1953                                            28.9304  \n",
       "4  Afghanistan  AFG  1954                                            29.2258  "
      ]
     },
     "execution_count": 34,
     "metadata": {},
     "output_type": "execute_result"
    }
   ],
   "source": [
    "life_expectancy.head()"
   ]
  },
  {
   "cell_type": "markdown",
   "id": "558b4126-6528-46ba-a26b-e314f05205f0",
   "metadata": {},
   "source": [
    "It appears we need to drop the \"Code\" and \"Rank\" columns. Then, we will filter our data to only include data from years 2013 and beyond."
   ]
  },
  {
   "cell_type": "code",
   "execution_count": 35,
   "id": "5a7b70d6-9e3b-4acd-8e18-f916e484a73d",
   "metadata": {},
   "outputs": [
    {
     "data": {
      "text/html": [
       "<div>\n",
       "<style scoped>\n",
       "    .dataframe tbody tr th:only-of-type {\n",
       "        vertical-align: middle;\n",
       "    }\n",
       "\n",
       "    .dataframe tbody tr th {\n",
       "        vertical-align: top;\n",
       "    }\n",
       "\n",
       "    .dataframe thead th {\n",
       "        text-align: right;\n",
       "    }\n",
       "</style>\n",
       "<table border=\"1\" class=\"dataframe\">\n",
       "  <thead>\n",
       "    <tr style=\"text-align: right;\">\n",
       "      <th></th>\n",
       "      <th>Entity</th>\n",
       "      <th>Year</th>\n",
       "      <th>Period life expectancy at birth - Sex: all - Age: 0</th>\n",
       "    </tr>\n",
       "  </thead>\n",
       "  <tbody>\n",
       "    <tr>\n",
       "      <th>63</th>\n",
       "      <td>Afghanistan</td>\n",
       "      <td>2013</td>\n",
       "      <td>62.4167</td>\n",
       "    </tr>\n",
       "    <tr>\n",
       "      <th>64</th>\n",
       "      <td>Afghanistan</td>\n",
       "      <td>2014</td>\n",
       "      <td>62.5451</td>\n",
       "    </tr>\n",
       "    <tr>\n",
       "      <th>65</th>\n",
       "      <td>Afghanistan</td>\n",
       "      <td>2015</td>\n",
       "      <td>62.6587</td>\n",
       "    </tr>\n",
       "    <tr>\n",
       "      <th>66</th>\n",
       "      <td>Afghanistan</td>\n",
       "      <td>2016</td>\n",
       "      <td>63.1361</td>\n",
       "    </tr>\n",
       "    <tr>\n",
       "      <th>67</th>\n",
       "      <td>Afghanistan</td>\n",
       "      <td>2017</td>\n",
       "      <td>63.0160</td>\n",
       "    </tr>\n",
       "  </tbody>\n",
       "</table>\n",
       "</div>"
      ],
      "text/plain": [
       "         Entity  Year  Period life expectancy at birth - Sex: all - Age: 0\n",
       "63  Afghanistan  2013                                            62.4167  \n",
       "64  Afghanistan  2014                                            62.5451  \n",
       "65  Afghanistan  2015                                            62.6587  \n",
       "66  Afghanistan  2016                                            63.1361  \n",
       "67  Afghanistan  2017                                            63.0160  "
      ]
     },
     "execution_count": 35,
     "metadata": {},
     "output_type": "execute_result"
    }
   ],
   "source": [
    "# filter the life expectancy data for only years 2013 and beyond\n",
    "filtered_life_expectancy = life_expectancy.loc[life_expectancy['Year']>=2013]\n",
    "\n",
    "# drop code column as it is not needed\n",
    "filtered_life_expectancy = filtered_life_expectancy.drop(columns='Code')\n",
    "filtered_life_expectancy.head()"
   ]
  },
  {
   "cell_type": "markdown",
   "id": "0c0beeb6-5f9f-41f6-b8a2-d5c46f8a799b",
   "metadata": {},
   "source": [
    "## Merge Life Expectancy and World Happiness Datasets\n",
    "\n",
    "Now that all our data is cleaned up, let's merge the two datasets together. We will use the pandas .merge() function to combine the datasets. They will be merged on Country and Year to ensure the life expectancies line up with the country for a given year."
   ]
  },
  {
   "cell_type": "code",
   "execution_count": 36,
   "id": "dfb0bc42-09c1-43e9-9430-a685b1cd75fb",
   "metadata": {},
   "outputs": [
    {
     "data": {
      "text/html": [
       "<div>\n",
       "<style scoped>\n",
       "    .dataframe tbody tr th:only-of-type {\n",
       "        vertical-align: middle;\n",
       "    }\n",
       "\n",
       "    .dataframe tbody tr th {\n",
       "        vertical-align: top;\n",
       "    }\n",
       "\n",
       "    .dataframe thead th {\n",
       "        text-align: right;\n",
       "    }\n",
       "</style>\n",
       "<table border=\"1\" class=\"dataframe\">\n",
       "  <thead>\n",
       "    <tr style=\"text-align: right;\">\n",
       "      <th></th>\n",
       "      <th>Country</th>\n",
       "      <th>Year</th>\n",
       "      <th>Index</th>\n",
       "      <th>Period life expectancy at birth - Sex: all - Age: 0</th>\n",
       "    </tr>\n",
       "  </thead>\n",
       "  <tbody>\n",
       "    <tr>\n",
       "      <th>0</th>\n",
       "      <td>Afghanistan</td>\n",
       "      <td>2013</td>\n",
       "      <td>4.040</td>\n",
       "      <td>62.4167</td>\n",
       "    </tr>\n",
       "    <tr>\n",
       "      <th>1</th>\n",
       "      <td>Afghanistan</td>\n",
       "      <td>2015</td>\n",
       "      <td>3.575</td>\n",
       "      <td>62.6587</td>\n",
       "    </tr>\n",
       "    <tr>\n",
       "      <th>2</th>\n",
       "      <td>Afghanistan</td>\n",
       "      <td>2016</td>\n",
       "      <td>3.360</td>\n",
       "      <td>63.1361</td>\n",
       "    </tr>\n",
       "    <tr>\n",
       "      <th>3</th>\n",
       "      <td>Afghanistan</td>\n",
       "      <td>2017</td>\n",
       "      <td>3.794</td>\n",
       "      <td>63.0160</td>\n",
       "    </tr>\n",
       "    <tr>\n",
       "      <th>4</th>\n",
       "      <td>Afghanistan</td>\n",
       "      <td>2018</td>\n",
       "      <td>3.632</td>\n",
       "      <td>63.0810</td>\n",
       "    </tr>\n",
       "  </tbody>\n",
       "</table>\n",
       "</div>"
      ],
      "text/plain": [
       "       Country  Year  Index  \\\n",
       "0  Afghanistan  2013  4.040   \n",
       "1  Afghanistan  2015  3.575   \n",
       "2  Afghanistan  2016  3.360   \n",
       "3  Afghanistan  2017  3.794   \n",
       "4  Afghanistan  2018  3.632   \n",
       "\n",
       "   Period life expectancy at birth - Sex: all - Age: 0  \n",
       "0                                            62.4167    \n",
       "1                                            62.6587    \n",
       "2                                            63.1361    \n",
       "3                                            63.0160    \n",
       "4                                            63.0810    "
      ]
     },
     "execution_count": 36,
     "metadata": {},
     "output_type": "execute_result"
    }
   ],
   "source": [
    "# merge both datasets\n",
    "merged_data = pd.merge(world_happiness, filtered_life_expectancy, left_on=['Country', 'Year'], right_on=['Entity','Year'])\n",
    "\n",
    "# drop entity column as we have country\n",
    "merged_data = merged_data.drop(columns='Entity')\n",
    "merged_data.head()"
   ]
  },
  {
   "cell_type": "markdown",
   "id": "163ff226-ff37-4420-8c51-2dbc770569dc",
   "metadata": {},
   "source": [
    "Convert the countries to continents for easier analysis. This code was done with assistance from this thread: https://stackoverflow.com/questions/55910004/get-continent-name-from-country-using-pycountry.\n",
    "\n",
    "The country_to_continent function below originally didn't recognize Kosovo which was in the csv. To account for this error, if the country was Kosovo, we returned Europe for it.\n",
    "\n",
    "After creating the function, we will use this on our merged data using .apply() to create a new column with the Continent name for the Country."
   ]
  },
  {
   "cell_type": "code",
   "execution_count": 38,
   "id": "292c851f-3151-4d7e-bd00-8ad19b1ce35a",
   "metadata": {},
   "outputs": [
    {
     "data": {
      "text/html": [
       "<div>\n",
       "<style scoped>\n",
       "    .dataframe tbody tr th:only-of-type {\n",
       "        vertical-align: middle;\n",
       "    }\n",
       "\n",
       "    .dataframe tbody tr th {\n",
       "        vertical-align: top;\n",
       "    }\n",
       "\n",
       "    .dataframe thead th {\n",
       "        text-align: right;\n",
       "    }\n",
       "</style>\n",
       "<table border=\"1\" class=\"dataframe\">\n",
       "  <thead>\n",
       "    <tr style=\"text-align: right;\">\n",
       "      <th></th>\n",
       "      <th>Country</th>\n",
       "      <th>Year</th>\n",
       "      <th>Index</th>\n",
       "      <th>Period life expectancy at birth - Sex: all - Age: 0</th>\n",
       "      <th>Continent</th>\n",
       "    </tr>\n",
       "  </thead>\n",
       "  <tbody>\n",
       "    <tr>\n",
       "      <th>0</th>\n",
       "      <td>Afghanistan</td>\n",
       "      <td>2013</td>\n",
       "      <td>4.040</td>\n",
       "      <td>62.4167</td>\n",
       "      <td>Asia</td>\n",
       "    </tr>\n",
       "    <tr>\n",
       "      <th>1</th>\n",
       "      <td>Afghanistan</td>\n",
       "      <td>2015</td>\n",
       "      <td>3.575</td>\n",
       "      <td>62.6587</td>\n",
       "      <td>Asia</td>\n",
       "    </tr>\n",
       "    <tr>\n",
       "      <th>2</th>\n",
       "      <td>Afghanistan</td>\n",
       "      <td>2016</td>\n",
       "      <td>3.360</td>\n",
       "      <td>63.1361</td>\n",
       "      <td>Asia</td>\n",
       "    </tr>\n",
       "    <tr>\n",
       "      <th>3</th>\n",
       "      <td>Afghanistan</td>\n",
       "      <td>2017</td>\n",
       "      <td>3.794</td>\n",
       "      <td>63.0160</td>\n",
       "      <td>Asia</td>\n",
       "    </tr>\n",
       "    <tr>\n",
       "      <th>4</th>\n",
       "      <td>Afghanistan</td>\n",
       "      <td>2018</td>\n",
       "      <td>3.632</td>\n",
       "      <td>63.0810</td>\n",
       "      <td>Asia</td>\n",
       "    </tr>\n",
       "  </tbody>\n",
       "</table>\n",
       "</div>"
      ],
      "text/plain": [
       "       Country  Year  Index  \\\n",
       "0  Afghanistan  2013  4.040   \n",
       "1  Afghanistan  2015  3.575   \n",
       "2  Afghanistan  2016  3.360   \n",
       "3  Afghanistan  2017  3.794   \n",
       "4  Afghanistan  2018  3.632   \n",
       "\n",
       "   Period life expectancy at birth - Sex: all - Age: 0 Continent  \n",
       "0                                            62.4167        Asia  \n",
       "1                                            62.6587        Asia  \n",
       "2                                            63.1361        Asia  \n",
       "3                                            63.0160        Asia  \n",
       "4                                            63.0810        Asia  "
      ]
     },
     "execution_count": 38,
     "metadata": {},
     "output_type": "execute_result"
    }
   ],
   "source": [
    "# converts countries to their continent\n",
    "def country_to_continent(country):\n",
    "    if country == \"Kosovo\":\n",
    "        return \"Europe\"\n",
    "    country_code = pc.country_name_to_country_alpha2(country)\n",
    "    if country_code is not None:\n",
    "        continent_code = pc.country_alpha2_to_continent_code(country_code)\n",
    "        if continent_code is not None:\n",
    "            continent_name = pc.convert_continent_code_to_continent_name(continent_code)\n",
    "            return continent_name\n",
    "    else:\n",
    "        return None\n",
    "    \n",
    "# use this on merged dataset\n",
    "merged_data['Continent'] = merged_data['Country'].apply(country_to_continent)\n",
    "merged_data.head()"
   ]
  },
  {
   "cell_type": "markdown",
   "id": "46c97c8a-154e-4413-89a0-e3cfea8d99ae",
   "metadata": {},
   "source": [
    "## Testing\n",
    "\n",
    "We checked for accuracy using the assertion tests - if the tests passed, there should be no error returned. These assertions for determining continent are based off the geographical locations of each country."
   ]
  },
  {
   "cell_type": "code",
   "execution_count": 22,
   "id": "e7c772d0-bc3f-49c5-a9ba-ebdbafd5ab85",
   "metadata": {},
   "outputs": [],
   "source": [
    "# assertion tests\n",
    "assert country_to_continent(\"Germany\") == \"Europe\"\n",
    "assert country_to_continent(\"United States\") == \"North America\"\n",
    "assert country_to_continent(\"Kosovo\") == \"Europe\"\n",
    "assert country_to_continent(\"Brazil\") == \"South America\"\n",
    "assert country_to_continent(\"Australia\") == \"Oceania\"\n",
    "assert country_to_continent(\"Afghanistan\") == \"Asia\""
   ]
  },
  {
   "cell_type": "markdown",
   "id": "7afa81d0-8eb0-4d39-b00b-9654b52c98b4",
   "metadata": {},
   "source": [
    "## Creating the World Happiness vs. Life Expectancy Visualizations\n",
    "\n",
    "Now we will average the life expectancies for a single year for each continent. Because there were multiple years values in our merged_data dataframe, we need to have data from years 2013 - 2021 for each Continent. Drop the Country column and group the data accordingly for life expectancies and world happiness indexes and use .mean() to find the average value for each item in a given year."
   ]
  },
  {
   "cell_type": "code",
   "execution_count": 41,
   "id": "eb933f6b-d7bb-4a73-91fb-56311372c980",
   "metadata": {},
   "outputs": [
    {
     "ename": "KeyError",
     "evalue": "\"['Country'] not found in axis\"",
     "output_type": "error",
     "traceback": [
      "\u001b[0;31m---------------------------------------------------------------------------\u001b[0m",
      "\u001b[0;31mKeyError\u001b[0m                                  Traceback (most recent call last)",
      "Cell \u001b[0;32mIn[41], line 2\u001b[0m\n\u001b[1;32m      1\u001b[0m \u001b[38;5;66;03m# average all life expectancies for a year for a continent\u001b[39;00m\n\u001b[0;32m----> 2\u001b[0m merged_data \u001b[38;5;241m=\u001b[39m \u001b[43mmerged_data\u001b[49m\u001b[38;5;241;43m.\u001b[39;49m\u001b[43mdrop\u001b[49m\u001b[43m(\u001b[49m\u001b[43mcolumns\u001b[49m\u001b[38;5;241;43m=\u001b[39;49m\u001b[38;5;124;43m'\u001b[39;49m\u001b[38;5;124;43mCountry\u001b[39;49m\u001b[38;5;124;43m'\u001b[39;49m\u001b[43m)\u001b[49m\n\u001b[1;32m      3\u001b[0m avg_life_exp \u001b[38;5;241m=\u001b[39m merged_data\u001b[38;5;241m.\u001b[39mgroupby([\u001b[38;5;124m'\u001b[39m\u001b[38;5;124mContinent\u001b[39m\u001b[38;5;124m'\u001b[39m, \u001b[38;5;124m'\u001b[39m\u001b[38;5;124mYear\u001b[39m\u001b[38;5;124m'\u001b[39m])[\u001b[38;5;124m'\u001b[39m\u001b[38;5;124mPeriod life expectancy at birth - Sex: all - Age: 0\u001b[39m\u001b[38;5;124m'\u001b[39m]\u001b[38;5;241m.\u001b[39mmean()\n\u001b[1;32m      4\u001b[0m avg_life_exp\u001b[38;5;241m.\u001b[39mhead()\n",
      "File \u001b[0;32m/opt/conda/lib/python3.10/site-packages/pandas/core/frame.py:5344\u001b[0m, in \u001b[0;36mDataFrame.drop\u001b[0;34m(self, labels, axis, index, columns, level, inplace, errors)\u001b[0m\n\u001b[1;32m   5196\u001b[0m \u001b[38;5;28;01mdef\u001b[39;00m \u001b[38;5;21mdrop\u001b[39m(\n\u001b[1;32m   5197\u001b[0m     \u001b[38;5;28mself\u001b[39m,\n\u001b[1;32m   5198\u001b[0m     labels: IndexLabel \u001b[38;5;241m|\u001b[39m \u001b[38;5;28;01mNone\u001b[39;00m \u001b[38;5;241m=\u001b[39m \u001b[38;5;28;01mNone\u001b[39;00m,\n\u001b[0;32m   (...)\u001b[0m\n\u001b[1;32m   5205\u001b[0m     errors: IgnoreRaise \u001b[38;5;241m=\u001b[39m \u001b[38;5;124m\"\u001b[39m\u001b[38;5;124mraise\u001b[39m\u001b[38;5;124m\"\u001b[39m,\n\u001b[1;32m   5206\u001b[0m ) \u001b[38;5;241m-\u001b[39m\u001b[38;5;241m>\u001b[39m DataFrame \u001b[38;5;241m|\u001b[39m \u001b[38;5;28;01mNone\u001b[39;00m:\n\u001b[1;32m   5207\u001b[0m \u001b[38;5;250m    \u001b[39m\u001b[38;5;124;03m\"\"\"\u001b[39;00m\n\u001b[1;32m   5208\u001b[0m \u001b[38;5;124;03m    Drop specified labels from rows or columns.\u001b[39;00m\n\u001b[1;32m   5209\u001b[0m \n\u001b[0;32m   (...)\u001b[0m\n\u001b[1;32m   5342\u001b[0m \u001b[38;5;124;03m            weight  1.0     0.8\u001b[39;00m\n\u001b[1;32m   5343\u001b[0m \u001b[38;5;124;03m    \"\"\"\u001b[39;00m\n\u001b[0;32m-> 5344\u001b[0m     \u001b[38;5;28;01mreturn\u001b[39;00m \u001b[38;5;28;43msuper\u001b[39;49m\u001b[43m(\u001b[49m\u001b[43m)\u001b[49m\u001b[38;5;241;43m.\u001b[39;49m\u001b[43mdrop\u001b[49m\u001b[43m(\u001b[49m\n\u001b[1;32m   5345\u001b[0m \u001b[43m        \u001b[49m\u001b[43mlabels\u001b[49m\u001b[38;5;241;43m=\u001b[39;49m\u001b[43mlabels\u001b[49m\u001b[43m,\u001b[49m\n\u001b[1;32m   5346\u001b[0m \u001b[43m        \u001b[49m\u001b[43maxis\u001b[49m\u001b[38;5;241;43m=\u001b[39;49m\u001b[43maxis\u001b[49m\u001b[43m,\u001b[49m\n\u001b[1;32m   5347\u001b[0m \u001b[43m        \u001b[49m\u001b[43mindex\u001b[49m\u001b[38;5;241;43m=\u001b[39;49m\u001b[43mindex\u001b[49m\u001b[43m,\u001b[49m\n\u001b[1;32m   5348\u001b[0m \u001b[43m        \u001b[49m\u001b[43mcolumns\u001b[49m\u001b[38;5;241;43m=\u001b[39;49m\u001b[43mcolumns\u001b[49m\u001b[43m,\u001b[49m\n\u001b[1;32m   5349\u001b[0m \u001b[43m        \u001b[49m\u001b[43mlevel\u001b[49m\u001b[38;5;241;43m=\u001b[39;49m\u001b[43mlevel\u001b[49m\u001b[43m,\u001b[49m\n\u001b[1;32m   5350\u001b[0m \u001b[43m        \u001b[49m\u001b[43minplace\u001b[49m\u001b[38;5;241;43m=\u001b[39;49m\u001b[43minplace\u001b[49m\u001b[43m,\u001b[49m\n\u001b[1;32m   5351\u001b[0m \u001b[43m        \u001b[49m\u001b[43merrors\u001b[49m\u001b[38;5;241;43m=\u001b[39;49m\u001b[43merrors\u001b[49m\u001b[43m,\u001b[49m\n\u001b[1;32m   5352\u001b[0m \u001b[43m    \u001b[49m\u001b[43m)\u001b[49m\n",
      "File \u001b[0;32m/opt/conda/lib/python3.10/site-packages/pandas/core/generic.py:4711\u001b[0m, in \u001b[0;36mNDFrame.drop\u001b[0;34m(self, labels, axis, index, columns, level, inplace, errors)\u001b[0m\n\u001b[1;32m   4709\u001b[0m \u001b[38;5;28;01mfor\u001b[39;00m axis, labels \u001b[38;5;129;01min\u001b[39;00m axes\u001b[38;5;241m.\u001b[39mitems():\n\u001b[1;32m   4710\u001b[0m     \u001b[38;5;28;01mif\u001b[39;00m labels \u001b[38;5;129;01mis\u001b[39;00m \u001b[38;5;129;01mnot\u001b[39;00m \u001b[38;5;28;01mNone\u001b[39;00m:\n\u001b[0;32m-> 4711\u001b[0m         obj \u001b[38;5;241m=\u001b[39m \u001b[43mobj\u001b[49m\u001b[38;5;241;43m.\u001b[39;49m\u001b[43m_drop_axis\u001b[49m\u001b[43m(\u001b[49m\u001b[43mlabels\u001b[49m\u001b[43m,\u001b[49m\u001b[43m \u001b[49m\u001b[43maxis\u001b[49m\u001b[43m,\u001b[49m\u001b[43m \u001b[49m\u001b[43mlevel\u001b[49m\u001b[38;5;241;43m=\u001b[39;49m\u001b[43mlevel\u001b[49m\u001b[43m,\u001b[49m\u001b[43m \u001b[49m\u001b[43merrors\u001b[49m\u001b[38;5;241;43m=\u001b[39;49m\u001b[43merrors\u001b[49m\u001b[43m)\u001b[49m\n\u001b[1;32m   4713\u001b[0m \u001b[38;5;28;01mif\u001b[39;00m inplace:\n\u001b[1;32m   4714\u001b[0m     \u001b[38;5;28mself\u001b[39m\u001b[38;5;241m.\u001b[39m_update_inplace(obj)\n",
      "File \u001b[0;32m/opt/conda/lib/python3.10/site-packages/pandas/core/generic.py:4753\u001b[0m, in \u001b[0;36mNDFrame._drop_axis\u001b[0;34m(self, labels, axis, level, errors, only_slice)\u001b[0m\n\u001b[1;32m   4751\u001b[0m         new_axis \u001b[38;5;241m=\u001b[39m axis\u001b[38;5;241m.\u001b[39mdrop(labels, level\u001b[38;5;241m=\u001b[39mlevel, errors\u001b[38;5;241m=\u001b[39merrors)\n\u001b[1;32m   4752\u001b[0m     \u001b[38;5;28;01melse\u001b[39;00m:\n\u001b[0;32m-> 4753\u001b[0m         new_axis \u001b[38;5;241m=\u001b[39m \u001b[43maxis\u001b[49m\u001b[38;5;241;43m.\u001b[39;49m\u001b[43mdrop\u001b[49m\u001b[43m(\u001b[49m\u001b[43mlabels\u001b[49m\u001b[43m,\u001b[49m\u001b[43m \u001b[49m\u001b[43merrors\u001b[49m\u001b[38;5;241;43m=\u001b[39;49m\u001b[43merrors\u001b[49m\u001b[43m)\u001b[49m\n\u001b[1;32m   4754\u001b[0m     indexer \u001b[38;5;241m=\u001b[39m axis\u001b[38;5;241m.\u001b[39mget_indexer(new_axis)\n\u001b[1;32m   4756\u001b[0m \u001b[38;5;66;03m# Case for non-unique axis\u001b[39;00m\n\u001b[1;32m   4757\u001b[0m \u001b[38;5;28;01melse\u001b[39;00m:\n",
      "File \u001b[0;32m/opt/conda/lib/python3.10/site-packages/pandas/core/indexes/base.py:7000\u001b[0m, in \u001b[0;36mIndex.drop\u001b[0;34m(self, labels, errors)\u001b[0m\n\u001b[1;32m   6998\u001b[0m \u001b[38;5;28;01mif\u001b[39;00m mask\u001b[38;5;241m.\u001b[39many():\n\u001b[1;32m   6999\u001b[0m     \u001b[38;5;28;01mif\u001b[39;00m errors \u001b[38;5;241m!=\u001b[39m \u001b[38;5;124m\"\u001b[39m\u001b[38;5;124mignore\u001b[39m\u001b[38;5;124m\"\u001b[39m:\n\u001b[0;32m-> 7000\u001b[0m         \u001b[38;5;28;01mraise\u001b[39;00m \u001b[38;5;167;01mKeyError\u001b[39;00m(\u001b[38;5;124mf\u001b[39m\u001b[38;5;124m\"\u001b[39m\u001b[38;5;132;01m{\u001b[39;00mlabels[mask]\u001b[38;5;241m.\u001b[39mtolist()\u001b[38;5;132;01m}\u001b[39;00m\u001b[38;5;124m not found in axis\u001b[39m\u001b[38;5;124m\"\u001b[39m)\n\u001b[1;32m   7001\u001b[0m     indexer \u001b[38;5;241m=\u001b[39m indexer[\u001b[38;5;241m~\u001b[39mmask]\n\u001b[1;32m   7002\u001b[0m \u001b[38;5;28;01mreturn\u001b[39;00m \u001b[38;5;28mself\u001b[39m\u001b[38;5;241m.\u001b[39mdelete(indexer)\n",
      "\u001b[0;31mKeyError\u001b[0m: \"['Country'] not found in axis\""
     ]
    }
   ],
   "source": [
    "# average all life expectancies for a year for a continent\n",
    "merged_data = merged_data.drop(columns='Country')\n",
    "avg_life_exp = merged_data.groupby(['Continent', 'Year'])['Period life expectancy at birth - Sex: all - Age: 0'].mean()\n",
    "avg_life_exp.head()"
   ]
  },
  {
   "cell_type": "markdown",
   "id": "007ed1ea-259e-4c1e-a838-72f10e963ead",
   "metadata": {},
   "source": [
    "Repeat for the world happiness indexes."
   ]
  },
  {
   "cell_type": "code",
   "execution_count": 27,
   "id": "77fca225-c479-4a70-abd6-fad226b917f6",
   "metadata": {},
   "outputs": [
    {
     "data": {
      "text/plain": [
       "Continent  Year\n",
       "Africa     2013    4.420450\n",
       "           2015    4.283300\n",
       "           2016    4.262333\n",
       "           2017    4.238707\n",
       "           2018    4.274561\n",
       "Name: Index, dtype: float64"
      ]
     },
     "execution_count": 27,
     "metadata": {},
     "output_type": "execute_result"
    }
   ],
   "source": [
    "# average all happiness indexes for a year for a continent\n",
    "avg_happiness = merged_data.groupby(['Continent', 'Year'])['Index'].mean()\n",
    "avg_happiness.head()"
   ]
  },
  {
   "cell_type": "markdown",
   "id": "dfbdc3b7-dca6-4b2e-98e6-e15c6c53af22",
   "metadata": {},
   "source": [
    "Now, we will merge the averaged world happiness index and life expectancies dataframes on Continent and Year to have their values next to each other for the visualizations that will follow. Reset the index to ensure the format of the table is accurate."
   ]
  },
  {
   "cell_type": "code",
   "execution_count": 29,
   "id": "de61d7ee-f814-4d6c-a6dc-11aa0e6b09ba",
   "metadata": {},
   "outputs": [],
   "source": [
    "# merge two averaged datasets on continent and year\n",
    "new_merged_data = pd.merge(avg_life_exp, avg_happiness, on=['Continent', 'Year'])\n",
    "\n",
    "# reset index for proper formatting\n",
    "new_merged_data = new_merged_data.reset_index()\n",
    "#new_merged_data.to_csv('happiness_vs_life_expectancy.csv')"
   ]
  },
  {
   "cell_type": "markdown",
   "id": "70a82259-6acd-4ce5-93ba-ba616e2764ea",
   "metadata": {},
   "source": [
    "Using plot.ly, we are first going to graph the life expectancies for each continent for each year, 2013 - 2021. The x-axis will be the year, the y-axis will be the average life expectancy for that year, and the color will be the continent, so each continent's graphs will be combined to be shown on one graph for this initial viewing purpose. Show the plot by writing it to an html (.show() did not work in the Jupyter notebook)."
   ]
  },
  {
   "cell_type": "code",
   "execution_count": 30,
   "id": "be394602-3015-4638-897c-0deee20e39b3",
   "metadata": {},
   "outputs": [],
   "source": [
    "# create visualization plotting year with life expectancy for all continents with plot.ly\n",
    "fig_life = px.line(new_merged_data, x = 'Year' ,\n",
    "              y = 'Period life expectancy at birth - Sex: all - Age: 0',\n",
    "              color = 'Continent',\n",
    "              title = 'Life Expectancy Trends for Each Continent from 2013 - 2021')\n",
    "\n",
    "# show plot by writing it to html\n",
    "fig_life.write_html('life_plot.html')"
   ]
  },
  {
   "cell_type": "markdown",
   "id": "1ead3396-bd6e-41f5-96f0-c7e8abeb8e8f",
   "metadata": {},
   "source": [
    "Repeat but replace the y variable will world happiness index now, as we want to see trends in index for each continent in order to compare life expectancy and world happiness index in the statistical analysis section that follows."
   ]
  },
  {
   "cell_type": "code",
   "execution_count": 13,
   "id": "d4bf55c2-a31d-4b7b-bb2b-dfe1f411d893",
   "metadata": {},
   "outputs": [],
   "source": [
    "# plot year with happiness index for all continents\n",
    "fig_life2 = px.line(new_merged_data, x = 'Year' ,\n",
    "              y = 'Index',\n",
    "              color = 'Continent',\n",
    "              title = 'World Happiness Index Trends for Each Continent from 2013 - 2021')\n",
    "\n",
    "fig_life2.write_html('life_plot2.html')"
   ]
  },
  {
   "cell_type": "markdown",
   "id": "7bf851c0-efbc-4281-aa79-b72617254c70",
   "metadata": {},
   "source": [
    "## Pearson Correlation Coefficient Statistical Analysis\n",
    "\n",
    "In order to meet our challenge goal, we had one being testing for result validility. We chose to do this in the form of a correlation analysis.\n",
    "\n",
    "Now let's analyze the relationship between world happiness index and life expectancy for a continent overall. We picked the Pearson correlation coefficient because this method can be used to determine the correlation between two different variables. A positive value means... while a negative value means... A stronger correlation will be closer to 1."
   ]
  },
  {
   "cell_type": "code",
   "execution_count": 14,
   "id": "1101218f-3917-4475-8fa0-ce82d341c019",
   "metadata": {},
   "outputs": [
    {
     "data": {
      "text/html": [
       "<div>\n",
       "<style scoped>\n",
       "    .dataframe tbody tr th:only-of-type {\n",
       "        vertical-align: middle;\n",
       "    }\n",
       "\n",
       "    .dataframe tbody tr th {\n",
       "        vertical-align: top;\n",
       "    }\n",
       "\n",
       "    .dataframe thead th {\n",
       "        text-align: right;\n",
       "    }\n",
       "</style>\n",
       "<table border=\"1\" class=\"dataframe\">\n",
       "  <thead>\n",
       "    <tr style=\"text-align: right;\">\n",
       "      <th></th>\n",
       "      <th>Period life expectancy at birth - Sex: all - Age: 0</th>\n",
       "      <th>Index</th>\n",
       "    </tr>\n",
       "  </thead>\n",
       "  <tbody>\n",
       "    <tr>\n",
       "      <th>Period life expectancy at birth - Sex: all - Age: 0</th>\n",
       "      <td>1.000000</td>\n",
       "      <td>-0.185191</td>\n",
       "    </tr>\n",
       "    <tr>\n",
       "      <th>Index</th>\n",
       "      <td>-0.185191</td>\n",
       "      <td>1.000000</td>\n",
       "    </tr>\n",
       "  </tbody>\n",
       "</table>\n",
       "</div>"
      ],
      "text/plain": [
       "                                                    Period life expectancy at birth - Sex: all - Age: 0  \\\n",
       "Period life expectancy at birth - Sex: all - Ag...                                           1.000000     \n",
       "Index                                                                                       -0.185191     \n",
       "\n",
       "                                                       Index  \n",
       "Period life expectancy at birth - Sex: all - Ag... -0.185191  \n",
       "Index                                               1.000000  "
      ]
     },
     "execution_count": 14,
     "metadata": {},
     "output_type": "execute_result"
    }
   ],
   "source": [
    "# statistical analysis - pearson correlation coefficient for all continents\n",
    "\n",
    "# africa\n",
    "# filter new_merged_data with only rows where Continent is Africa\n",
    "africa_life = new_merged_data[new_merged_data['Continent']=='Africa']\n",
    "\n",
    "# drop columns Continent and Year for calculating pearson correlation coefficient and rename table\n",
    "africa_corr = africa_life.drop(columns=['Continent','Year'])\n",
    "africa_corr.corr(method='pearson')"
   ]
  },
  {
   "cell_type": "code",
   "execution_count": 15,
   "id": "bcfd726c-6775-4a23-aa7b-dddd32096d74",
   "metadata": {},
   "outputs": [
    {
     "data": {
      "text/html": [
       "<div>\n",
       "<style scoped>\n",
       "    .dataframe tbody tr th:only-of-type {\n",
       "        vertical-align: middle;\n",
       "    }\n",
       "\n",
       "    .dataframe tbody tr th {\n",
       "        vertical-align: top;\n",
       "    }\n",
       "\n",
       "    .dataframe thead th {\n",
       "        text-align: right;\n",
       "    }\n",
       "</style>\n",
       "<table border=\"1\" class=\"dataframe\">\n",
       "  <thead>\n",
       "    <tr style=\"text-align: right;\">\n",
       "      <th></th>\n",
       "      <th>Period life expectancy at birth - Sex: all - Age: 0</th>\n",
       "      <th>Index</th>\n",
       "    </tr>\n",
       "  </thead>\n",
       "  <tbody>\n",
       "    <tr>\n",
       "      <th>Period life expectancy at birth - Sex: all - Age: 0</th>\n",
       "      <td>1.000000</td>\n",
       "      <td>-0.644533</td>\n",
       "    </tr>\n",
       "    <tr>\n",
       "      <th>Index</th>\n",
       "      <td>-0.644533</td>\n",
       "      <td>1.000000</td>\n",
       "    </tr>\n",
       "  </tbody>\n",
       "</table>\n",
       "</div>"
      ],
      "text/plain": [
       "                                                    Period life expectancy at birth - Sex: all - Age: 0  \\\n",
       "Period life expectancy at birth - Sex: all - Ag...                                           1.000000     \n",
       "Index                                                                                       -0.644533     \n",
       "\n",
       "                                                       Index  \n",
       "Period life expectancy at birth - Sex: all - Ag... -0.644533  \n",
       "Index                                               1.000000  "
      ]
     },
     "execution_count": 15,
     "metadata": {},
     "output_type": "execute_result"
    }
   ],
   "source": [
    "# asia\n",
    "asia_life = new_merged_data[new_merged_data['Continent']=='Asia']\n",
    "asia_corr = asia_life.drop(columns=['Continent','Year'])\n",
    "asia_corr.corr(method='pearson')"
   ]
  },
  {
   "cell_type": "code",
   "execution_count": 16,
   "id": "6dcb1f74-03ef-4732-b8c9-3ee02a004301",
   "metadata": {},
   "outputs": [
    {
     "data": {
      "text/html": [
       "<div>\n",
       "<style scoped>\n",
       "    .dataframe tbody tr th:only-of-type {\n",
       "        vertical-align: middle;\n",
       "    }\n",
       "\n",
       "    .dataframe tbody tr th {\n",
       "        vertical-align: top;\n",
       "    }\n",
       "\n",
       "    .dataframe thead th {\n",
       "        text-align: right;\n",
       "    }\n",
       "</style>\n",
       "<table border=\"1\" class=\"dataframe\">\n",
       "  <thead>\n",
       "    <tr style=\"text-align: right;\">\n",
       "      <th></th>\n",
       "      <th>Period life expectancy at birth - Sex: all - Age: 0</th>\n",
       "      <th>Index</th>\n",
       "    </tr>\n",
       "  </thead>\n",
       "  <tbody>\n",
       "    <tr>\n",
       "      <th>Period life expectancy at birth - Sex: all - Age: 0</th>\n",
       "      <td>1.000000</td>\n",
       "      <td>-0.176369</td>\n",
       "    </tr>\n",
       "    <tr>\n",
       "      <th>Index</th>\n",
       "      <td>-0.176369</td>\n",
       "      <td>1.000000</td>\n",
       "    </tr>\n",
       "  </tbody>\n",
       "</table>\n",
       "</div>"
      ],
      "text/plain": [
       "                                                    Period life expectancy at birth - Sex: all - Age: 0  \\\n",
       "Period life expectancy at birth - Sex: all - Ag...                                           1.000000     \n",
       "Index                                                                                       -0.176369     \n",
       "\n",
       "                                                       Index  \n",
       "Period life expectancy at birth - Sex: all - Ag... -0.176369  \n",
       "Index                                               1.000000  "
      ]
     },
     "execution_count": 16,
     "metadata": {},
     "output_type": "execute_result"
    }
   ],
   "source": [
    "# europe\n",
    "europe_life = new_merged_data[new_merged_data['Continent']=='Europe']\n",
    "europe_corr = europe_life.drop(columns=['Continent','Year'])\n",
    "europe_corr.corr(method='pearson')"
   ]
  },
  {
   "cell_type": "code",
   "execution_count": 17,
   "id": "208b629a-03eb-4f45-af40-aaadd5fe2340",
   "metadata": {},
   "outputs": [
    {
     "data": {
      "text/html": [
       "<div>\n",
       "<style scoped>\n",
       "    .dataframe tbody tr th:only-of-type {\n",
       "        vertical-align: middle;\n",
       "    }\n",
       "\n",
       "    .dataframe tbody tr th {\n",
       "        vertical-align: top;\n",
       "    }\n",
       "\n",
       "    .dataframe thead th {\n",
       "        text-align: right;\n",
       "    }\n",
       "</style>\n",
       "<table border=\"1\" class=\"dataframe\">\n",
       "  <thead>\n",
       "    <tr style=\"text-align: right;\">\n",
       "      <th></th>\n",
       "      <th>Period life expectancy at birth - Sex: all - Age: 0</th>\n",
       "      <th>Index</th>\n",
       "    </tr>\n",
       "  </thead>\n",
       "  <tbody>\n",
       "    <tr>\n",
       "      <th>Period life expectancy at birth - Sex: all - Age: 0</th>\n",
       "      <td>1.000000</td>\n",
       "      <td>-0.168439</td>\n",
       "    </tr>\n",
       "    <tr>\n",
       "      <th>Index</th>\n",
       "      <td>-0.168439</td>\n",
       "      <td>1.000000</td>\n",
       "    </tr>\n",
       "  </tbody>\n",
       "</table>\n",
       "</div>"
      ],
      "text/plain": [
       "                                                    Period life expectancy at birth - Sex: all - Age: 0  \\\n",
       "Period life expectancy at birth - Sex: all - Ag...                                           1.000000     \n",
       "Index                                                                                       -0.168439     \n",
       "\n",
       "                                                       Index  \n",
       "Period life expectancy at birth - Sex: all - Ag... -0.168439  \n",
       "Index                                               1.000000  "
      ]
     },
     "execution_count": 17,
     "metadata": {},
     "output_type": "execute_result"
    }
   ],
   "source": [
    "# north america\n",
    "north_life = new_merged_data[new_merged_data['Continent']=='North America']\n",
    "north_corr = north_life.drop(columns=['Continent','Year'])\n",
    "north_corr.corr(method='pearson')"
   ]
  },
  {
   "cell_type": "code",
   "execution_count": 18,
   "id": "5a0c2eb8-c130-4258-ba28-ea45dfd49c51",
   "metadata": {},
   "outputs": [
    {
     "data": {
      "text/html": [
       "<div>\n",
       "<style scoped>\n",
       "    .dataframe tbody tr th:only-of-type {\n",
       "        vertical-align: middle;\n",
       "    }\n",
       "\n",
       "    .dataframe tbody tr th {\n",
       "        vertical-align: top;\n",
       "    }\n",
       "\n",
       "    .dataframe thead th {\n",
       "        text-align: right;\n",
       "    }\n",
       "</style>\n",
       "<table border=\"1\" class=\"dataframe\">\n",
       "  <thead>\n",
       "    <tr style=\"text-align: right;\">\n",
       "      <th></th>\n",
       "      <th>Period life expectancy at birth - Sex: all - Age: 0</th>\n",
       "      <th>Index</th>\n",
       "    </tr>\n",
       "  </thead>\n",
       "  <tbody>\n",
       "    <tr>\n",
       "      <th>Period life expectancy at birth - Sex: all - Age: 0</th>\n",
       "      <td>1.000000</td>\n",
       "      <td>-0.695444</td>\n",
       "    </tr>\n",
       "    <tr>\n",
       "      <th>Index</th>\n",
       "      <td>-0.695444</td>\n",
       "      <td>1.000000</td>\n",
       "    </tr>\n",
       "  </tbody>\n",
       "</table>\n",
       "</div>"
      ],
      "text/plain": [
       "                                                    Period life expectancy at birth - Sex: all - Age: 0  \\\n",
       "Period life expectancy at birth - Sex: all - Ag...                                           1.000000     \n",
       "Index                                                                                       -0.695444     \n",
       "\n",
       "                                                       Index  \n",
       "Period life expectancy at birth - Sex: all - Ag... -0.695444  \n",
       "Index                                               1.000000  "
      ]
     },
     "execution_count": 18,
     "metadata": {},
     "output_type": "execute_result"
    }
   ],
   "source": [
    "# oceania\n",
    "oceania_life = new_merged_data[new_merged_data['Continent']=='Oceania']\n",
    "oceania_corr = oceania_life.drop(columns=['Continent','Year'])\n",
    "oceania_corr.corr(method='pearson')"
   ]
  },
  {
   "cell_type": "code",
   "execution_count": 19,
   "id": "1368a9ae-d173-4915-b55b-c582c6c4c56d",
   "metadata": {},
   "outputs": [
    {
     "data": {
      "text/html": [
       "<div>\n",
       "<style scoped>\n",
       "    .dataframe tbody tr th:only-of-type {\n",
       "        vertical-align: middle;\n",
       "    }\n",
       "\n",
       "    .dataframe tbody tr th {\n",
       "        vertical-align: top;\n",
       "    }\n",
       "\n",
       "    .dataframe thead th {\n",
       "        text-align: right;\n",
       "    }\n",
       "</style>\n",
       "<table border=\"1\" class=\"dataframe\">\n",
       "  <thead>\n",
       "    <tr style=\"text-align: right;\">\n",
       "      <th></th>\n",
       "      <th>Period life expectancy at birth - Sex: all - Age: 0</th>\n",
       "      <th>Index</th>\n",
       "    </tr>\n",
       "  </thead>\n",
       "  <tbody>\n",
       "    <tr>\n",
       "      <th>Period life expectancy at birth - Sex: all - Age: 0</th>\n",
       "      <td>1.000000</td>\n",
       "      <td>0.254417</td>\n",
       "    </tr>\n",
       "    <tr>\n",
       "      <th>Index</th>\n",
       "      <td>0.254417</td>\n",
       "      <td>1.000000</td>\n",
       "    </tr>\n",
       "  </tbody>\n",
       "</table>\n",
       "</div>"
      ],
      "text/plain": [
       "                                                    Period life expectancy at birth - Sex: all - Age: 0  \\\n",
       "Period life expectancy at birth - Sex: all - Ag...                                           1.000000     \n",
       "Index                                                                                        0.254417     \n",
       "\n",
       "                                                       Index  \n",
       "Period life expectancy at birth - Sex: all - Ag...  0.254417  \n",
       "Index                                               1.000000  "
      ]
     },
     "execution_count": 19,
     "metadata": {},
     "output_type": "execute_result"
    }
   ],
   "source": [
    "# south america\n",
    "south_life = new_merged_data[new_merged_data['Continent']=='South America']\n",
    "south_corr = south_life.drop(columns=['Continent','Year'])\n",
    "south_corr.corr(method='pearson')"
   ]
  },
  {
   "cell_type": "markdown",
   "id": "8f5bd06c-4c26-4498-be83-322a8aedd38d",
   "metadata": {},
   "source": [
    "Plot one dataset to see how.."
   ]
  },
  {
   "cell_type": "code",
   "execution_count": 20,
   "id": "7cf98c1e-ae34-426a-b97e-b59ae3bc1f63",
   "metadata": {},
   "outputs": [],
   "source": [
    "# plot one data set more closely to see pearson correlation coefficient\n",
    "# this is life expectancy trends for the continent of africa\n",
    "fig_africa_life = px.line(africa_life, x = 'Year' ,\n",
    "              y = 'Period life expectancy at birth - Sex: all - Age: 0',\n",
    "              color = 'Continent',\n",
    "              title = 'Life Expectancy Trends for Africa from 2013 - 2021')\n",
    "\n",
    "fig_africa_life.write_html('africa_life_plot.html')"
   ]
  },
  {
   "cell_type": "code",
   "execution_count": 21,
   "id": "04f46d17-ef09-45fe-8c30-df20e7f304c7",
   "metadata": {},
   "outputs": [],
   "source": [
    "# plot one data set more closely to see pearson correlation coefficient\n",
    "# this is world happiness index trends for the continent of africa\n",
    "fig_africa_life2 = px.line(africa_life, x = 'Year' ,\n",
    "              y = 'Index',\n",
    "              color = 'Continent',\n",
    "              title = 'World Happiness Index Trends for Africa from 2013 - 2021')\n",
    "\n",
    "fig_africa_life2.write_html('africa_life_plot2.html')"
   ]
  },
  {
   "cell_type": "markdown",
   "id": "885c1704-3a6f-49fe-9952-81e6da981273",
   "metadata": {},
   "source": [
    "## Result"
   ]
  },
  {
   "cell_type": "markdown",
   "id": "7d5bec1c-f5ce-450c-989f-ba29c2fca73d",
   "metadata": {},
   "source": [
    "## Impact and Limitations"
   ]
  },
  {
   "cell_type": "markdown",
   "id": "be1d76fb-8f77-4771-8890-54d7c06d104b",
   "metadata": {},
   "source": [
    "## Plan Evaluation for Part 2"
   ]
  },
  {
   "cell_type": "code",
   "execution_count": null,
   "id": "a7732895-e28d-4a67-9538-8edbcffd9a97",
   "metadata": {},
   "outputs": [],
   "source": []
  }
 ],
 "metadata": {
  "kernelspec": {
   "display_name": "Python 3 (ipykernel)",
   "language": "python",
   "name": "python3"
  },
  "language_info": {
   "codemirror_mode": {
    "name": "ipython",
    "version": 3
   },
   "file_extension": ".py",
   "mimetype": "text/x-python",
   "name": "python",
   "nbconvert_exporter": "python",
   "pygments_lexer": "ipython3",
   "version": "3.10.13"
  }
 },
 "nbformat": 4,
 "nbformat_minor": 5
}
